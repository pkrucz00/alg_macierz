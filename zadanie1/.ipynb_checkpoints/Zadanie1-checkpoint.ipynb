{
 "cells": [
  {
   "cell_type": "markdown",
   "id": "39dd12c7",
   "metadata": {},
   "source": [
    "# Algorytmy macierzowe - mnożenie macierzy\n",
    "## Wykonali: Robert Kazimirek, Paweł Kruczkiewicz\n",
    "\n",
    "\n",
    "**Numer ćwiczenia: 3**\n",
    "\n",
    "*Temat:* Proszę napisać mnożenie macierzy rIGA i rIGA używając algorytmu mnożenia blokowego, i \n",
    "dobrać optymalną kolejność pętli oraz rozmiar bloków \n",
    "\n",
    "Treść ćwiczenia:\n",
    "\n",
    "1. Proszę wybrać dwie możliwie największe macierze A i B ze swoich dwóch \n",
    "rodzin macierzy, takie żeby zgadzały się ich rozmiary, oraz przemnożyć je \n",
    "A*B swoim optymalnym algorytmem (tak duże macierze jakie da się w \n",
    "czasie kilku-kilkudziesięciu minut przemnożyć na Państwa laptopie) \n",
    "2. Proszę narysować schemat niezerowych wartości swoich dwóch macierzy \n",
    "(używając komendy spy(A), spy(B) MATLABa) oraz macierzy wynikowej \n",
    "A*B \n",
    "3. Proszę zmierzyć czas mnożenia tych wybranych dwóch dużych macierzy dla \n",
    "różnej kolejności pętli w algorytmie mnożenia macierzy. Proszę narysować \n",
    "tabelkę: kolejność pętli (6 możliwości) versus czasy mnożenia \n",
    "3. Proszę wybrać jedną kolejność pętli i następnie dla swoich dwóch macierzy \n",
    "A i B zmierzyć czasy mnożenia w algorytmie mnożenia blokowego.  Proszę \n",
    "narysować wykres: oś x rozmiar bloków, oś y czas mnożenia \n",
    "4. Proszę obliczyć liczbę operacji zmienno-przecinkowych koniecznych do \n",
    "\n"
   ]
  },
  {
   "cell_type": "code",
   "execution_count": 2,
   "id": "431e9409",
   "metadata": {},
   "outputs": [],
   "source": [
    "import numpy as np\n",
    "import matplotlib.pyplot as plt"
   ]
  },
  {
   "cell_type": "markdown",
   "id": "9e37d2f7",
   "metadata": {},
   "source": [
    "### Ad. 1\n",
    "Jako macierze A i B wybraliśmy macierze wygenerowane przez podany na zajęciach skrypt `massmatrix.m`. W tym celu użyliśmy funkcji `massmatrix(2,nxx,2,2)`, gdzie nxx = {2,3,4}. Następnie wyniki zapisaliśmy w pliku o formacie csv. Poniższy kod wczytuje obie macierze jako `np.array` "
   ]
  },
  {
   "cell_type": "code",
   "execution_count": 30,
   "id": "dbc80670",
   "metadata": {},
   "outputs": [],
   "source": [
    "def get_matrix_from_csv(csv_file):\n",
    "    return np.loadtxt(open(csv_file, \"rb\"), delimiter=\",\", skiprows=0)"
   ]
  },
  {
   "cell_type": "code",
   "execution_count": 31,
   "id": "328ff158",
   "metadata": {},
   "outputs": [],
   "source": [
    "A, B = get_matrix_from_csv(\"rigas/riga100.csv\"), get_matrix_from_csv(\"rigas/riga100.csv\")"
   ]
  },
  {
   "cell_type": "markdown",
   "id": "5c60845d",
   "metadata": {},
   "source": [
    "### Ad. 2\n",
    "Poniżej przedstawiamy niezerowe pola wejściowych oraz wyjściowe macierzy. Fiolet oznacza niezerową wartość, żółty oznacza zerową. Do mnożenia macierzy wykorzystano wbudowany w bibliotekę numpy znak mnożenia macierzy"
   ]
  },
  {
   "cell_type": "code",
   "execution_count": 32,
   "id": "a2ed68e1",
   "metadata": {},
   "outputs": [],
   "source": [
    "def spy(matrix, label):\n",
    "    mask = matrix == 0\n",
    "    plt.matshow(mask)\n",
    "    plt.title(label)\n",
    "    plt.show()"
   ]
  },
  {
   "cell_type": "code",
   "execution_count": 6,
   "id": "512cb001",
   "metadata": {
    "scrolled": false
   },
   "outputs": [
    {
     "data": {
      "image/png": "[encoded data removed]",
      "text/plain": [
       "<Figure size 288x288 with 1 Axes>"
      ]
     },
     "metadata": {
      "needs_background": "light"
     },
     "output_type": "display_data"
    },
    {
     "data": {
      "image/png": "[encoded data removed]",
      "text/plain": [
       "<Figure size 288x288 with 1 Axes>"
      ]
     },
     "metadata": {
      "needs_background": "light"
     },
     "output_type": "display_data"
    },
    {
     "data": {
      "image/png": "[encoded data removed]",
      "text/plain": [
       "<Figure size 288x288 with 1 Axes>"
      ]
     },
     "metadata": {
      "needs_background": "light"
     },
     "output_type": "display_data"
    }
   ],
   "source": [
    "n = np.size(A, 0)\n",
    "C = A@B\n",
    "    \n",
    "spy(A, f\"A, size={n}\")\n",
    "spy(B, f\"B, size={n}\")\n",
    "spy(C, f\"C, size={n}\")"
   ]
  },
  {
   "cell_type": "markdown",
   "id": "c334b396",
   "metadata": {
    "pycharm": {
     "name": "#%% md\n"
    }
   },
   "source": [
    "### Ad. 3\n",
    "Teraz zmierzymy czas dla wszystkich możliwych 6 permutacji obliczania iloczynu macierzy. Urzyjemy do tego funkcji `log_time`, która wypisze nam czas trwania funkcji w sekundach"
   ]
  },
  {
   "cell_type": "code",
   "execution_count": 23,
   "id": "535628d3",
   "metadata": {
    "pycharm": {
     "name": "#%%\n"
    }
   },
   "outputs": [],
   "source": [
    "from time import time\n",
    "\n",
    "def log_time(func, message):\n",
    "    number_of_tests = 5\n",
    "    exec_times = []\n",
    "    for _ in range(number_of_tests):\n",
    "        t1 = time()\n",
    "        func()\n",
    "        t2 = time()\n",
    "        exec_times.append(round(t2 - t1, 5))\n",
    "    \n",
    "    avg_time = round(sum(exec_times)/number_of_tests, 5)\n",
    "    print(f\"{message:8}: {avg_time} [s]\")\n",
    "    return avg_time"
   ]
  },
  {
   "cell_type": "code",
   "execution_count": 35,
   "id": "4f3bd622",
   "metadata": {
    "pycharm": {
     "name": "#%%\n"
    }
   },
   "outputs": [],
   "source": [
    "def multi_ijp(A, B, C):\n",
    "    m, n, k = np.size(C, 0), np.size(C, 1), np.size(A, 1)\n",
    "    for i in range(m):\n",
    "        for j in range(n):\n",
    "            for p in range(k):\n",
    "                C[i][j] += A[i][p] * B[p][j]\n",
    "                \n",
    "                \n",
    "def multi_ipj(A, B, C):\n",
    "    m, n, k = np.size(C, 0), np.size(C, 1), np.size(A, 1)\n",
    "    for i in range(m):\n",
    "        for p in range(k):\n",
    "            for j in range(n):\n",
    "                C[i][j] += A[i][p] * B[p][j]\n",
    "\n",
    "\n",
    "def multi_jip(A, B, C):\n",
    "    m, n, k = np.size(C, 0), np.size(C, 1), np.size(A, 1)\n",
    "    for j in range(n):\n",
    "        for i in range(m):\n",
    "            for p in range(k):\n",
    "                C[i][j] += A[i][p] * B[p][j]\n",
    "\n",
    "\n",
    "def multi_jpi(A, B, C):\n",
    "    m, n, k = np.size(C, 0), np.size(C, 1), np.size(A, 1)\n",
    "    for j in range(n):\n",
    "        for p in range(k):\n",
    "            for i in range(m):\n",
    "                C[i][j] += A[i][p] * B[p][j]\n",
    "\n",
    "\n",
    "def multi_pij(A, B, C):\n",
    "    m, n, k = np.size(C, 0), np.size(C, 1), np.size(A, 1)\n",
    "    for p in range(k):\n",
    "        for i in range(m):\n",
    "            for j in range(n):\n",
    "                C[i][j] += A[i][p] * B[p][j]\n",
    "\n",
    "\n",
    "def multi_pji(A, B, C):\n",
    "    m, n, k = np.size(C, 0), np.size(C, 1), np.size(A, 1)\n",
    "    for p in range(k):\n",
    "        for j in range(n):\n",
    "            for i in range(m):\n",
    "                C[i][j] += A[i][p] * B[p][j]\n",
    "\n",
    "\n",
    "\n",
    "def mat_mul(A, B, mul_func=multi_ijp):\n",
    "    C = np.zeros((np.size(A, 0), np.size(B, 1)))\n",
    "    mul_func(A, B, C)\n",
    "    return C"
   ]
  },
  {
   "cell_type": "code",
   "execution_count": 36,
   "id": "2112a706",
   "metadata": {
    "pycharm": {
     "name": "#%%\n"
    }
   },
   "outputs": [
    {
     "name": "stdout",
     "output_type": "stream",
     "text": [
      "Function  time\n",
      "multi_ijp: 0.77947 [s]\n",
      "multi_ipj: 0.77854 [s]\n",
      "multi_jip: 0.76864 [s]\n",
      "multi_jpi: 0.72863 [s]\n",
      "multi_pij: 0.76392 [s]\n",
      "multi_pji: 0.76194 [s]\n"
     ]
    }
   ],
   "source": [
    "mat_mul_functions = [multi_ijp ,multi_ipj, multi_jip, multi_jpi, multi_pij, multi_pji]\n",
    "\n",
    "print(\"Function  time\")\n",
    "for fun in mat_mul_functions:\n",
    "    log_time(lambda: mat_mul(A, B, fun), fun.__name__)"
   ]
  },
  {
   "cell_type": "markdown",
   "id": "5d9e33e5",
   "metadata": {},
   "source": [
    "Tutaj jest miejsce na wnioski"
   ]
  },
  {
   "cell_type": "markdown",
   "id": "7d4107f5",
   "metadata": {
    "pycharm": {
     "name": "#%%\n"
    }
   },
   "source": [
    "### Ad. 4\n",
    "Poniżej napisaliśmy program do blokowego mnożenia macierzy. Ponieważ w tym ćwiczeniu mamy do czynienia jedynie z macierzami kwadratowymi, przyjęliśmy, że podziały bloków przy różnych kolumnach macierzy są zawsze takie same. Zależność czasu od długości pojedynczego bloku przedstawiliśmy na wykresie poniżej."
   ]
  },
  {
   "cell_type": "code",
   "execution_count": 26,
   "id": "9c492bab",
   "metadata": {},
   "outputs": [],
   "source": [
    "def block_mul(A, B, m_bs, n_bs, k_bs):\n",
    "    C = np.zeros((np.size(A, 0), np.size(B, 1)))\n",
    "    m, n, k = np.size(C, 0), np.size(C, 1), np.size(A, 1)\n",
    "\n",
    "    for i in range(0, m, m_bs):\n",
    "        for j in range(0, n, n_bs):\n",
    "            for p in range(0, k, k_bs):\n",
    "                A_slice = A[i:i+m_bs, p:p+k_bs]\n",
    "                B_slice = B[p:p+k_bs, j:j+n_bs]\n",
    "                C_slice = C[i:i+m_bs, j:j+n_bs]\n",
    "                multi_ijp(A_slice, B_slice, C_slice)\n",
    "    return C"
   ]
  },
  {
   "cell_type": "code",
   "execution_count": 28,
   "id": "c27e7c75",
   "metadata": {},
   "outputs": [
    {
     "name": "stdout",
     "output_type": "stream",
     "text": [
      "Block length 2: 1.31185 [s]\n",
      "Block length 3: 0.94302 [s]\n",
      "Block length 5: 0.78692 [s]\n",
      "Block length 10: 0.73225 [s]\n",
      "Block length 15: 0.75262 [s]\n",
      "Block length 20: 0.70525 [s]\n",
      "Block length 25: 0.72135 [s]\n",
      "Block length 33: 0.74421 [s]\n",
      "Block length 40: 0.73921 [s]\n",
      "Block length 50: 0.69341 [s]\n",
      "Block length 75: 0.69864 [s]\n"
     ]
    }
   ],
   "source": [
    "block_lengths = [2, 3, 5, 10, 15, 20, 25, 33, 40, 50, 75]\n",
    "times = [\n",
    "    log_time(lambda: block_mul(A, B, nb, nb, nb), f\"Block length {nb}\") \n",
    "    for nb in block_lengths\n",
    "]"
   ]
  },
  {
   "cell_type": "code",
   "execution_count": 29,
   "id": "9f3c9c2b",
   "metadata": {},
   "outputs": [
    {
     "data": {
      "image/png": "[encoded data removed]",
      "text/plain": [
       "<Figure size 432x288 with 1 Axes>"
      ]
     },
     "metadata": {
      "needs_background": "light"
     },
     "output_type": "display_data"
    }
   ],
   "source": [
    "# plt.plot(block_lengths, times)\n",
    "# plt.show()\n",
    "# TODO zrobić ładny wykres"
   ]
  },
  {
   "cell_type": "markdown",
   "id": "86e2c9db",
   "metadata": {},
   "source": [
    "Miejce na wnioski"
   ]
  },
  {
   "cell_type": "markdown",
   "id": "907f1953",
   "metadata": {},
   "source": [
    "### Ad. 5\n",
    "Miejsce na gflopsy"
   ]
  },
  {
   "cell_type": "markdown",
   "id": "859c4eba",
   "metadata": {},
   "source": [
    "## Podsumowanie"
   ]
  },
  {
   "cell_type": "code",
   "execution_count": null,
   "id": "fd077dd2",
   "metadata": {},
   "outputs": [],
   "source": []
  }
 ],
 "metadata": {
  "kernelspec": {
   "display_name": "Python 3",
   "language": "python",
   "name": "python3"
  },
  "language_info": {
   "codemirror_mode": {
    "name": "ipython",
    "version": 3
   },
   "file_extension": ".py",
   "mimetype": "text/x-python",
   "name": "python",
   "nbconvert_exporter": "python",
   "pygments_lexer": "ipython3",
   "version": "3.7.6"
  }
 },
 "nbformat": 4,
 "nbformat_minor": 5
}
