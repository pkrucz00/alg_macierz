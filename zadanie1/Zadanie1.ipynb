{
 "cells": [
  {
   "cell_type": "markdown",
   "id": "6fec0090",
   "metadata": {},
   "source": [
    "# Algorytmy macierzowe - mnożenie macierzy\n",
    "## Wykonali: Robert Kazimirek, Paweł Kruczkiewicz\n",
    "\n",
    "\n",
    "**Numer ćwiczenia: 3**\n",
    "\n",
    "*Temat:* Proszę napisać mnożenie macierzy rIGA i rIGA używając algorytmu mnożenia blokowego, i \n",
    "dobrać optymalną kolejność pętli oraz rozmiar bloków \n",
    "\n",
    "Treść ćwiczenia:\n",
    "\n",
    "1. Proszę wybrać dwie możliwie największe macierze A i B ze swoich dwóch \n",
    "rodzin macierzy, takie żeby zgadzały się ich rozmiary, oraz przemnożyć je \n",
    "A*B swoim optymalnym algorytmem (tak duże macierze jakie da się w \n",
    "czasie kilku-kilkudziesięciu minut przemnożyć na Państwa laptopie) \n",
    "2. Proszę narysować schemat niezerowych wartości swoich dwóch macierzy \n",
    "(używając komendy spy(A), spy(B) MATLABa) oraz macierzy wynikowej \n",
    "A*B \n",
    "3. Proszę zmierzyć czas mnożenia tych wybranych dwóch dużych macierzy dla \n",
    "różnej kolejności pętli w algorytmie mnożenia macierzy. Proszę narysować \n",
    "tabelkę: kolejność pętli (6 możliwości) versus czasy mnożenia \n",
    "3. Proszę wybrać jedną kolejność pętli i następnie dla swoich dwóch macierzy \n",
    "A i B zmierzyć czasy mnożenia w algorytmie mnożenia blokowego.  Proszę \n",
    "narysować wykres: oś x rozmiar bloków, oś y czas mnożenia \n",
    "4. Proszę obliczyć liczbę operacji zmienno-przecinkowych koniecznych do \n",
    "\n"
   ]
  },
  {
   "cell_type": "markdown",
   "id": "ad94aea5",
   "metadata": {},
   "source": [
    "### Ad. 1\n",
    "Jako macierze A i B wybraliśmy macierze wygenerowane przez podany na zajęciach skrypt `massmatrix.m`. W tym celu użyliśmy funkcji `massmatrix(2,2,2,2)`, którą następnie zapisaliśmy w pliku o formacie csv. Poniższy kod wczytuje obie macierze jako `np.array` "
   ]
  },
  {
   "cell_type": "code",
   "execution_count": null,
   "id": "312d668d",
   "metadata": {},
   "outputs": [],
   "source": []
  }
 ],
 "metadata": {
  "kernelspec": {
   "display_name": "Python 3",
   "language": "python",
   "name": "python3"
  },
  "language_info": {
   "codemirror_mode": {
    "name": "ipython",
    "version": 3
   },
   "file_extension": ".py",
   "mimetype": "text/x-python",
   "name": "python",
   "nbconvert_exporter": "python",
   "pygments_lexer": "ipython3",
   "version": "3.7.6"
  }
 },
 "nbformat": 4,
 "nbformat_minor": 5
}
