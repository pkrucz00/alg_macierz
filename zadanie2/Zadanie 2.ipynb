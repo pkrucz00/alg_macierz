{
 "cells": [
  {
   "cell_type": "markdown",
   "id": "b87b8e9f",
   "metadata": {},
   "source": [
    "# Algorytmy macierzowe - eliminacja Gaussa\n",
    "## Wykonali: Robert Kazimirek, Paweł Kruczkiewicz\n",
    "\n",
    "\n",
    "**Numer ćwiczenia: 1**\n",
    "\n",
    "*Treść ćwiczenia*: \n",
    "\n",
    "Proszę napisać procedurę [S]=Schur_Complement(A,n,m)  gdzie A to macierz wejściowa, n to rozmiar tej macierzy A,  m to rozmiar podmacierzy (tzw. dopełnienia Schura),  powstałej poprzez wyeliminowanie n-m wierszy i kolumn  z macierzy A, wykorzystując [zatrzymując po n-m krokach]:\n"
   ]
  },
  {
   "cell_type": "code",
   "execution_count": 2,
   "id": "da02bec6",
   "metadata": {},
   "outputs": [],
   "source": [
    "import numpy as np\n",
    "import matplotlib.pyplot as plt"
   ]
  },
  {
   "cell_type": "markdown",
   "id": "edab0e65",
   "metadata": {},
   "source": [
    "### Badany algorytm\n",
    "Co to robi, do czego się to stosuje, jak będziemy to badać"
   ]
  },
  {
   "cell_type": "code",
   "execution_count": 1,
   "id": "8cbb6a69",
   "metadata": {},
   "outputs": [],
   "source": [
    "def schur_compliment(A, m):\n",
    "    n = A.shape[0]\n",
    "    number_of_steps = min(n - m, n - 1)\n",
    "    for k in range(number_of_steps):\n",
    "        akk = A[k,k]\n",
    "        for j in range(k+1, n):\n",
    "            A[j, k:n] -= A[k, k:n]*(A[j,k]/akk)"
   ]
  },
  {
   "cell_type": "markdown",
   "id": "18cd3918",
   "metadata": {},
   "source": [
    "### Funkcje pomocnicze\n",
    "Dla wygody i klarowności przygotowaliśmy kilka funkcji, które pomogą w przeprowadzanym badaniu\n",
    "\n",
    "**Wczytywanie pliku csv z macierzą**"
   ]
  },
  {
   "cell_type": "code",
   "execution_count": 3,
   "id": "6318fec7",
   "metadata": {},
   "outputs": [],
   "source": [
    "def get_matrix_from_csv(csv_file):\n",
    "    return np.loadtxt(open(csv_file, \"rb\"), delimiter=\",\", skiprows=0)"
   ]
  },
  {
   "cell_type": "markdown",
   "id": "353cf0ed",
   "metadata": {},
   "source": [
    "**Funkcja spy**"
   ]
  },
  {
   "cell_type": "code",
   "execution_count": 5,
   "id": "0e3dfd76",
   "metadata": {},
   "outputs": [],
   "source": [
    "def spy(matrix, label, plot):\n",
    "    mask = matrix == 0\n",
    "    plot.matshow(mask)"
   ]
  },
  {
   "cell_type": "markdown",
   "id": "a88fdb10",
   "metadata": {},
   "source": [
    "**Funkcja \"powielająca\" macierz**, tj. dla podanego parametru `q` będacego liczbą naturalną oraz dla macierzy o wymiarach `n x n` zwraca macierz o wymiarach `(q*n) x (q*n)` będąca q-krotnym powtórzeniem wejściowym macierzy wzdłóż obu boków."
   ]
  },
  {
   "cell_type": "code",
   "execution_count": 6,
   "id": "8bfbca7a",
   "metadata": {},
   "outputs": [],
   "source": [
    "def scale_matrix(A, q):\n",
    "    B = np.vstack([A]*q)\n",
    "    C = np.hstack([B]*q)\n",
    "    return C"
   ]
  },
  {
   "cell_type": "markdown",
   "id": "404f0c36",
   "metadata": {},
   "source": [
    "**Pomiar czasu**"
   ]
  },
  {
   "cell_type": "code",
   "execution_count": 7,
   "id": "336842ee",
   "metadata": {},
   "outputs": [],
   "source": [
    "from time import time\n",
    "\n",
    "def log_time(func):\n",
    "    t1 = time()\n",
    "    func()\n",
    "    t2 = time()\n",
    "    return t2 - t1"
   ]
  },
  {
   "cell_type": "markdown",
   "id": "c81ccb5c",
   "metadata": {},
   "source": [
    "**Rysowanie wykresu**"
   ]
  },
  {
   "cell_type": "code",
   "execution_count": 8,
   "id": "8b81fb86",
   "metadata": {},
   "outputs": [],
   "source": [
    "def show_line_plot(x_vals, y_vals, title, x_label, y_label):\n",
    "    x_vals = [element * 81 for element in x_vals]\n",
    "    x_pos = list(range(len(x_vals)))\n",
    "    plt.plot(x_pos, y_vals, color='green')\n",
    "\n",
    "    plt.xlabel(x_label)\n",
    "    plt.ylabel(y_label)\n",
    "    plt.title(title)\n",
    "    plt.xticks(x_pos, x_vals)\n",
    "\n",
    "    plt.show()"
   ]
  },
  {
   "cell_type": "markdown",
   "id": "888393d4",
   "metadata": {},
   "source": [
    "**Funkcja mierząca czas procedury**"
   ]
  },
  {
   "cell_type": "code",
   "execution_count": 9,
   "id": "dcf03b21",
   "metadata": {},
   "outputs": [],
   "source": [
    "def get_schur_compliment_time(A, m):\n",
    "    number_of_experiments = 5\n",
    "    times = [log_time(lambda: schur_compliment(A.copy(), m))\n",
    "         for _ in range(number_of_experiments)]\n",
    "    return round(sum(times)/number_of_experiments, 5)\n",
    "\n",
    "def get_schur_compliment_times(matrices, m_func):\n",
    "    return [get_schur_compliment_time(matrix, m_func(matrix.shape[0])) for matrix in matrices]\n",
    "\n",
    "def get_schur_compliment_times_wrapper(csv_file, m_func, qs):\n",
    "    original_matrix = get_matrix_from_csv(csv_file)\n",
    "    matrices = [scale_matrix(original_matrix, q) for q in qs]\n",
    "    return get_schur_compliment_times(matrices, m_func)"
   ]
  },
  {
   "cell_type": "markdown",
   "id": "42a86928",
   "metadata": {},
   "source": [
    "**Przygotowanie wywołania funkcji**"
   ]
  },
  {
   "cell_type": "code",
   "execution_count": 10,
   "id": "9752ab38",
   "metadata": {},
   "outputs": [],
   "source": [
    "qs = [1,2,3,4,5,10,20]   # możliwe, że to trzeba będzie zmienić, żeby czasy były dłuższe\n",
    "\n",
    "m_half_fun = lambda n: n//2\n",
    "m_quater_fun = lambda n: n//4\n",
    "m_single_fun = lambda n: 1\n",
    "\n",
    "get_schur_compliment_times_for_fem = lambda m_fun: get_schur_compliment_times_wrapper(csv_file, m_fun, qs)"
   ]
  },
  {
   "cell_type": "markdown",
   "id": "a8d380d8",
   "metadata": {},
   "source": [
    "## Ad. 1\n",
    "Badamy algorytm na przykładzie macierzy IGA."
   ]
  },
  {
   "cell_type": "markdown",
   "id": "fae23400",
   "metadata": {},
   "source": [
    "**Wybór macierzy**\n",
    "\n",
    "Naszą macierzą jest macierz wygenerowana za pomocą procedury `massmatrix(0,7,2,0)`, którą następnie zapisaliśmy do pisaliśmy do pliku csv i wczytaliśmy poniżej. Ma ona rozmiar `81x81`.\n",
    "\n",
    "Następnie w testach sprawdzamy czas wykonania badanej faktoryzacji na zwielokrotnionych przez funkcję `scale_matrix(A, q)` macierzach, gdzie kolejne wartości parametru `q` zostały ustalone arbitralnie."
   ]
  },
  {
   "cell_type": "code",
   "execution_count": 11,
   "id": "e14e7146",
   "metadata": {},
   "outputs": [],
   "source": [
    "csv_file = \"csv/iga81_2.csv\""
   ]
  },
  {
   "cell_type": "markdown",
   "id": "9e307cc0",
   "metadata": {},
   "source": [
    "**Działanie dla parametru `m = n/2`**"
   ]
  },
  {
   "cell_type": "code",
   "execution_count": 12,
   "id": "7abb1681",
   "metadata": {},
   "outputs": [
    {
     "name": "stderr",
     "output_type": "stream",
     "text": [
      "C:\\Users\\pawel\\anaconda3\\lib\\site-packages\\ipykernel_launcher.py:7: RuntimeWarning: invalid value encountered in double_scalars\n",
      "  import sys\n"
     ]
    },
    {
     "data": {
      "image/png": "[encoded data removed]",
      "text/plain": [
       "<Figure size 432x288 with 1 Axes>"
      ]
     },
     "metadata": {
      "needs_background": "light"
     },
     "output_type": "display_data"
    }
   ],
   "source": [
    "times = get_schur_compliment_times_for_fem(m_half_fun)\n",
    "show_line_plot(qs, times, \"Czas obliczeń dopełnień Schura o rozmiarze n/2\", \"Rozmiar macierzy\", \"Czas[s]\")"
   ]
  },
  {
   "cell_type": "markdown",
   "id": "5522e57d",
   "metadata": {},
   "source": [
    "**Działanie dla parametru `m = n/4`**"
   ]
  },
  {
   "cell_type": "code",
   "execution_count": 13,
   "id": "15bce653",
   "metadata": {},
   "outputs": [
    {
     "name": "stderr",
     "output_type": "stream",
     "text": [
      "C:\\Users\\pawel\\anaconda3\\lib\\site-packages\\ipykernel_launcher.py:7: RuntimeWarning: invalid value encountered in double_scalars\n",
      "  import sys\n"
     ]
    },
    {
     "data": {
      "image/png": "[encoded data removed]",
      "text/plain": [
       "<Figure size 432x288 with 1 Axes>"
      ]
     },
     "metadata": {
      "needs_background": "light"
     },
     "output_type": "display_data"
    }
   ],
   "source": [
    "times = get_schur_compliment_times_for_fem(m_quater_fun)\n",
    "show_line_plot(qs, times, \"Czas obliczeń dopełnień Schura o rozmiarze n/4\", \"Rozmiar macierzy\", \"Czas[s]\")"
   ]
  },
  {
   "cell_type": "markdown",
   "id": "630cbf09",
   "metadata": {},
   "source": [
    "**Działanie dla parametru `m = 1`**"
   ]
  },
  {
   "cell_type": "code",
   "execution_count": 108,
   "id": "ee4b9793",
   "metadata": {},
   "outputs": [
    {
     "name": "stderr",
     "output_type": "stream",
     "text": [
      "<ipython-input-38-2d029c5545c5>:7: RuntimeWarning: invalid value encountered in true_divide\n",
      "  A[j, k:n] -= A[k, k:n]*A[j,k]/akk\n"
     ]
    },
    {
     "name": "stdout",
     "output_type": "stream",
     "text": [
      "[0, 1, 2, 3, 4, 5, 6]\n"
     ]
    },
    {
     "data": {
      "image/png": "[encoded data removed]",
      "text/plain": [
       "<Figure size 432x288 with 1 Axes>"
      ]
     },
     "metadata": {
      "needs_background": "light"
     },
     "output_type": "display_data"
    }
   ],
   "source": [
    "times = get_schur_compliment_times_for_fem(m_single_fun)\n",
    "show_line_plot(qs, times, \"Czas obliczeń dopełnień Schura o rozmiarze 1\", \"Rozmiar macierzy\", \"Czas[s]\")"
   ]
  },
  {
   "cell_type": "markdown",
   "id": "ee2acb11",
   "metadata": {},
   "source": [
    "## Ad. 2\n",
    "Badamy algorytm na przykładzie macierzy FEM."
   ]
  },
  {
   "cell_type": "markdown",
   "id": "7353c2a6",
   "metadata": {},
   "source": [
    "**Wybór macierzy**\n",
    "\n",
    "Wybór i przetworzenie macierzy do testów było analogiczne do punktu 1."
   ]
  },
  {
   "cell_type": "code",
   "execution_count": 109,
   "id": "7b3ba3e2",
   "metadata": {},
   "outputs": [],
   "source": [
    "csv_file = \"csv/fem81_2.csv\""
   ]
  },
  {
   "cell_type": "markdown",
   "id": "d300726d",
   "metadata": {},
   "source": [
    "**Działanie dla parametru `m = n/2`**"
   ]
  },
  {
   "cell_type": "code",
   "execution_count": 110,
   "id": "035fb412",
   "metadata": {},
   "outputs": [
    {
     "name": "stderr",
     "output_type": "stream",
     "text": [
      "<ipython-input-38-2d029c5545c5>:7: RuntimeWarning: invalid value encountered in true_divide\n",
      "  A[j, k:n] -= A[k, k:n]*A[j,k]/akk\n"
     ]
    },
    {
     "name": "stdout",
     "output_type": "stream",
     "text": [
      "[0, 1, 2, 3, 4, 5, 6]\n"
     ]
    },
    {
     "data": {
      "image/png": "[encoded data removed]",
      "text/plain": [
       "<Figure size 432x288 with 1 Axes>"
      ]
     },
     "metadata": {
      "needs_background": "light"
     },
     "output_type": "display_data"
    }
   ],
   "source": [
    "times = get_schur_compliment_times_for_fem(m_half_fun)\n",
    "show_line_plot(qs, times, \"Czas obliczeń dopełnień Schura o rozmiarze n/2\", \"Rozmiar macierzy\", \"Czas[s]\")"
   ]
  },
  {
   "cell_type": "markdown",
   "id": "c9acd002",
   "metadata": {},
   "source": [
    "**Działanie dla parametru `m = n/4`**"
   ]
  },
  {
   "cell_type": "code",
   "execution_count": 111,
   "id": "fb301d8c",
   "metadata": {},
   "outputs": [
    {
     "name": "stderr",
     "output_type": "stream",
     "text": [
      "<ipython-input-38-2d029c5545c5>:7: RuntimeWarning: invalid value encountered in true_divide\n",
      "  A[j, k:n] -= A[k, k:n]*A[j,k]/akk\n"
     ]
    },
    {
     "name": "stdout",
     "output_type": "stream",
     "text": [
      "[0, 1, 2, 3, 4, 5, 6]\n"
     ]
    },
    {
     "data": {
      "image/png": "[encoded data removed]",
      "text/plain": [
       "<Figure size 432x288 with 1 Axes>"
      ]
     },
     "metadata": {
      "needs_background": "light"
     },
     "output_type": "display_data"
    }
   ],
   "source": [
    "times = get_schur_compliment_times_for_fem(m_quater_fun)\n",
    "show_line_plot(qs, times, \"Czas obliczeń dopełnień Schura o rozmiarze n/4\", \"Rozmiar macierzy\", \"Czas[s]\")"
   ]
  },
  {
   "cell_type": "markdown",
   "id": "fb460b4b",
   "metadata": {},
   "source": [
    "**Działanie dla parametru `m = 1`**"
   ]
  },
  {
   "cell_type": "code",
   "execution_count": 112,
   "id": "0ad74fe8",
   "metadata": {},
   "outputs": [
    {
     "name": "stderr",
     "output_type": "stream",
     "text": [
      "<ipython-input-38-2d029c5545c5>:7: RuntimeWarning: invalid value encountered in true_divide\n",
      "  A[j, k:n] -= A[k, k:n]*A[j,k]/akk\n"
     ]
    },
    {
     "name": "stdout",
     "output_type": "stream",
     "text": [
      "[0, 1, 2, 3, 4, 5, 6]\n"
     ]
    },
    {
     "data": {
      "image/png": "[encoded data removed]",
      "text/plain": [
       "<Figure size 432x288 with 1 Axes>"
      ]
     },
     "metadata": {
      "needs_background": "light"
     },
     "output_type": "display_data"
    }
   ],
   "source": [
    "times = get_schur_compliment_times_for_fem(m_single_fun)\n",
    "show_line_plot(qs, times, \"Czas obliczeń dopełnień Schura o rozmiarze 1\", \"Rozmiar macierzy\", \"Czas[s]\")"
   ]
  },
  {
   "cell_type": "markdown",
   "id": "9646e402",
   "metadata": {},
   "source": [
    "## Ad. 3\n",
    "Obliczenie kosztu obliczeniowego oraz pamięciowego (*flops* i *memops*)\n",
    "\n",
    "W funkcji `schur_compliment(A, m)` pierwsze 2 linie są potrzebne jedynie w celu przygotowania właściwych parametrów dla głównej procedury. W związku z tym nie dodajemy ich do obliczeń. <br>\n",
    "Ponadto zakładamy, że liczba iteracji pierwszej pętli `for` jest równa `n - m`, ponieważ taką wartość przyjmuje zmienna `number_of_steps` w przypadku podania właściwego parametru `m`.\n",
    "\n"
   ]
  },
  {
   "cell_type": "markdown",
   "id": "bbce19ad",
   "metadata": {},
   "source": [
    "### Koszt obliczeniowy\n",
    "\n",
    "Flopsy obliczyliśmy badając liczbę wykonanych operacji zmiennoprzecinkowych w kolejnych linijkach kodu.\n",
    "\n",
    "\n",
    "![Flopsy obliczone](screeny/flop_opisany.png)\n",
    "\n",
    "\n",
    "### Koszt pamięciowy\n",
    "\n",
    "Koszt pamięciowy został obliczony analogicznie jak liczba operacji zmiennoprzecinkowych. Wyniki przedstawiono poniżej:\n",
    "\n",
    "![Flopsy obliczone](screeny/memop.gif)"
   ]
  },
  {
   "cell_type": "markdown",
   "id": "c668b77e",
   "metadata": {},
   "source": [
    "## Wnioski"
   ]
  }
 ],
 "metadata": {
  "kernelspec": {
   "display_name": "Python 3",
   "language": "python",
   "name": "python3"
  },
  "language_info": {
   "codemirror_mode": {
    "name": "ipython",
    "version": 3
   },
   "file_extension": ".py",
   "mimetype": "text/x-python",
   "name": "python",
   "nbconvert_exporter": "python",
   "pygments_lexer": "ipython3",
   "version": "3.7.6"
  }
 },
 "nbformat": 4,
 "nbformat_minor": 5
}
