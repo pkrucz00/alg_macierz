{
 "cells": [
  {
   "cell_type": "markdown",
   "id": "2e0acf97",
   "metadata": {},
   "source": [
    "# Algorytmy macierzowe - eliminacja Gaussa\n",
    "## Wykonali: Robert Kazimirek, Paweł Kruczkiewicz\n",
    "\n",
    "\n",
    "**Numer ćwiczenia: 1**\n",
    "\n",
    "*Temat:* \n",
    "\n",
    "Treść ćwiczenia:\n"
   ]
  },
  {
   "cell_type": "code",
   "execution_count": 2,
   "id": "4db48c43",
   "metadata": {},
   "outputs": [],
   "source": [
    "import numpy as np\n",
    "import matplotlib.pyplot as plt"
   ]
  },
  {
   "cell_type": "markdown",
   "id": "84b42d65",
   "metadata": {},
   "source": [
    "### Badany algorytm"
   ]
  },
  {
   "cell_type": "code",
   "execution_count": 3,
   "id": "6816ed95",
   "metadata": {},
   "outputs": [],
   "source": [
    "def schur_compliment(A, n, m):\n",
    "    pass"
   ]
  },
  {
   "cell_type": "markdown",
   "id": "3df867f2",
   "metadata": {},
   "source": [
    "### Funkcje pomocnicze\n",
    "**Wczytywanie pliku csv z macierzą**"
   ]
  },
  {
   "cell_type": "code",
   "execution_count": null,
   "id": "a95376e1",
   "metadata": {},
   "outputs": [],
   "source": []
  },
  {
   "cell_type": "markdown",
   "id": "26e92745",
   "metadata": {},
   "source": [
    "**Funkcja \"powielająca\" macierz**, tj. dla podanego parametru `q` będacego liczbą naturalną oraz dla macierzy o wymiarach `n x n` zwraca macierz o wymiarach `(q*n) x (q*n)` będąca q-krotnym powtórzeniem wejściowym macierzy wzdłóż obu boków.\n",
    "\n",
    "(Pewnie się przyda, ale nie mamy jeszcze zgody na to, czy można tej funkcji użyć, ale pewnie można, a nawet będzie trzeba)\n",
    "\n",
    "(Postaram się przepisać tę funkcję, żeby była bardziej wydajna, jeżeli będzie mi się nudziło)"
   ]
  },
  {
   "cell_type": "markdown",
   "id": "a04e8f20",
   "metadata": {},
   "source": [
    "**Pomiar czasu**"
   ]
  },
  {
   "cell_type": "code",
   "execution_count": null,
   "id": "7c56567a",
   "metadata": {},
   "outputs": [],
   "source": []
  },
  {
   "cell_type": "markdown",
   "id": "cda74f43",
   "metadata": {},
   "source": [
    "**Rysowanie wykresu**"
   ]
  },
  {
   "cell_type": "code",
   "execution_count": null,
   "id": "23bb77f6",
   "metadata": {},
   "outputs": [],
   "source": []
  },
  {
   "cell_type": "markdown",
   "id": "a6499966",
   "metadata": {},
   "source": [
    "## Ad. 1\n",
    "Badamy algorytm na przykładzie macierzy IGA"
   ]
  },
  {
   "cell_type": "markdown",
   "id": "9cd8fd49",
   "metadata": {},
   "source": [
    "**Przygotowanie macierzy**"
   ]
  },
  {
   "cell_type": "code",
   "execution_count": null,
   "id": "48cb6693",
   "metadata": {},
   "outputs": [],
   "source": []
  },
  {
   "cell_type": "markdown",
   "id": "2ff0ef21",
   "metadata": {},
   "source": [
    "**Działanie dla parametru `m = n/2`**"
   ]
  },
  {
   "cell_type": "code",
   "execution_count": null,
   "id": "0c59f126",
   "metadata": {},
   "outputs": [],
   "source": []
  },
  {
   "cell_type": "markdown",
   "id": "cd96ef4b",
   "metadata": {},
   "source": [
    "**Działanie dla parametru `m = n/4`**"
   ]
  },
  {
   "cell_type": "code",
   "execution_count": null,
   "id": "d5a75f4a",
   "metadata": {},
   "outputs": [],
   "source": []
  },
  {
   "cell_type": "markdown",
   "id": "5f021aa0",
   "metadata": {},
   "source": [
    "**Działanie dla parametru `m = 1`**"
   ]
  },
  {
   "cell_type": "code",
   "execution_count": null,
   "id": "e456b19b",
   "metadata": {},
   "outputs": [],
   "source": []
  },
  {
   "cell_type": "markdown",
   "id": "0ae2b989",
   "metadata": {},
   "source": [
    "## Ad. 2\n",
    "Badamy algorytm na przykładzie macierzy FEM"
   ]
  },
  {
   "cell_type": "markdown",
   "id": "9bda9b8e",
   "metadata": {},
   "source": [
    "**Przygotowanie macierzy**"
   ]
  },
  {
   "cell_type": "code",
   "execution_count": null,
   "id": "6d605317",
   "metadata": {},
   "outputs": [],
   "source": []
  },
  {
   "cell_type": "markdown",
   "id": "e5f02810",
   "metadata": {},
   "source": [
    "**Działanie dla parametru `m = n/2`**"
   ]
  },
  {
   "cell_type": "code",
   "execution_count": null,
   "id": "a60ebcc4",
   "metadata": {},
   "outputs": [],
   "source": []
  },
  {
   "cell_type": "markdown",
   "id": "8cbd8f02",
   "metadata": {},
   "source": [
    "**Działanie dla parametru `m = n/4`**"
   ]
  },
  {
   "cell_type": "code",
   "execution_count": null,
   "id": "e86f4948",
   "metadata": {},
   "outputs": [],
   "source": []
  },
  {
   "cell_type": "markdown",
   "id": "5c8b4e0a",
   "metadata": {},
   "source": [
    "**Działanie dla parametru `m = 1`**"
   ]
  },
  {
   "cell_type": "code",
   "execution_count": null,
   "id": "6e503dc1",
   "metadata": {},
   "outputs": [],
   "source": []
  },
  {
   "cell_type": "markdown",
   "id": "07b7b650",
   "metadata": {},
   "source": [
    "## Ad. 3\n",
    "Obliczenie flops oraz mops"
   ]
  },
  {
   "cell_type": "markdown",
   "id": "47b2e65c",
   "metadata": {},
   "source": [
    "## Wnioski"
   ]
  }
 ],
 "metadata": {
  "kernelspec": {
   "display_name": "Python 3",
   "language": "python",
   "name": "python3"
  },
  "language_info": {
   "codemirror_mode": {
    "name": "ipython",
    "version": 3
   },
   "file_extension": ".py",
   "mimetype": "text/x-python",
   "name": "python",
   "nbconvert_exporter": "python",
   "pygments_lexer": "ipython3",
   "version": "3.7.6"
  }
 },
 "nbformat": 4,
 "nbformat_minor": 5
}
