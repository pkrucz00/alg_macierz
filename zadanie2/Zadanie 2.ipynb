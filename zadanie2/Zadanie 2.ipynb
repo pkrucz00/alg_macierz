{
 "cells": [
  {
   "cell_type": "markdown",
   "id": "2e0acf97",
   "metadata": {},
   "source": [
    "# Algorytmy macierzowe - eliminacja Gaussa\n",
    "## Wykonali: Robert Kazimirek, Paweł Kruczkiewicz\n",
    "\n",
    "\n",
    "**Numer ćwiczenia: 1**\n",
    "\n",
    "*Temat:* \n",
    "\n",
    "Treść ćwiczenia:\n"
   ]
  },
  {
   "cell_type": "code",
   "execution_count": 1,
   "id": "4db48c43",
   "metadata": {},
   "outputs": [],
   "source": [
    "import numpy as np\n",
    "import matplotlib.pyplot as plt"
   ]
  },
  {
   "cell_type": "markdown",
   "id": "84b42d65",
   "metadata": {},
   "source": [
    "### Badany algorytm"
   ]
  },
  {
   "cell_type": "code",
   "execution_count": 2,
   "id": "6816ed95",
   "metadata": {},
   "outputs": [],
   "source": [
    "def schur_compliment(A, m):\n",
    "    n = A.shape[0]\n",
    "    number_of_steps = min(n - m, n - 1)\n",
    "    for k in range(number_of_steps):\n",
    "        akk = A[k,k]\n",
    "        for j in range(k+1, n):\n",
    "            A[j, k:n] -= A[k, k:n]*A[j,k]/akk"
   ]
  },
  {
   "cell_type": "markdown",
   "id": "3df867f2",
   "metadata": {},
   "source": [
    "### Funkcje pomocnicze\n",
    "**Wczytywanie pliku csv z macierzą**"
   ]
  },
  {
   "cell_type": "code",
   "execution_count": 3,
   "id": "a95376e1",
   "metadata": {},
   "outputs": [],
   "source": [
    "def get_matrix_from_csv(csv_file):\n",
    "    return np.loadtxt(open(csv_file, \"rb\"), delimiter=\",\", skiprows=0)"
   ]
  },
  {
   "cell_type": "markdown",
   "id": "9172d4fd",
   "metadata": {},
   "source": [
    "**Funkcja spy**"
   ]
  },
  {
   "cell_type": "code",
   "execution_count": 4,
   "id": "cb521330",
   "metadata": {},
   "outputs": [],
   "source": [
    "def spy(matrix, label, plot):\n",
    "    mask = matrix == 0\n",
    "    plot.matshow(mask)"
   ]
  },
  {
   "cell_type": "markdown",
   "id": "26e92745",
   "metadata": {},
   "source": [
    "**Funkcja \"powielająca\" macierz**, tj. dla podanego parametru `q` będacego liczbą naturalną oraz dla macierzy o wymiarach `n x n` zwraca macierz o wymiarach `(q*n) x (q*n)` będąca q-krotnym powtórzeniem wejściowym macierzy wzdłóż obu boków."
   ]
  },
  {
   "cell_type": "code",
   "execution_count": 5,
   "id": "8e2a99b7",
   "metadata": {},
   "outputs": [],
   "source": [
    "def scale_matrix(A, q):\n",
    "    B = np.vstack([A]*q)\n",
    "    C = np.hstack([B]*q)\n",
    "    return C"
   ]
  },
  {
   "cell_type": "markdown",
   "id": "a04e8f20",
   "metadata": {},
   "source": [
    "**Pomiar czasu**"
   ]
  },
  {
   "cell_type": "code",
   "execution_count": 6,
   "id": "7c56567a",
   "metadata": {},
   "outputs": [],
   "source": [
    "from time import time\n",
    "\n",
    "def log_time(func):\n",
    "    t1 = time()\n",
    "    func()\n",
    "    t2 = time()\n",
    "    return t2 - t1"
   ]
  },
  {
   "cell_type": "markdown",
   "id": "cda74f43",
   "metadata": {},
   "source": [
    "**Rysowanie wykresu**"
   ]
  },
  {
   "cell_type": "code",
   "execution_count": 7,
   "id": "23bb77f6",
   "metadata": {},
   "outputs": [],
   "source": [
    "def show_line_plot(x_vals, y_vals, title, x_label, y_label):\n",
    "    x_pos = list(range(len(x_vals)))\n",
    "\n",
    "    plt.plot(x_pos, y_vals, color='green')\n",
    "\n",
    "    plt.xlabel(x_label)\n",
    "    plt.ylabel(y_label)\n",
    "    plt.title(title)\n",
    "    plt.xticks(x_pos, x_vals)\n",
    "\n",
    "    plt.show()"
   ]
  },
  {
   "cell_type": "markdown",
   "id": "48f5a199",
   "metadata": {},
   "source": [
    "**Funkcja mierząca czas procedury**"
   ]
  },
  {
   "cell_type": "code",
   "execution_count": 8,
   "id": "7faba13b",
   "metadata": {},
   "outputs": [],
   "source": [
    "def get_schur_compliment_time(A, m):\n",
    "    number_of_experiments = 5\n",
    "    times = [log_time(lambda: schur_compliment(A.copy(), m))\n",
    "         for _ in range(number_of_experiments)]\n",
    "    return round(sum(times)/number_of_experiments, 5)\n",
    "\n",
    "def get_schur_compliment_times(matrices, m_func):\n",
    "    return [get_schur_compliment_time(matrix, m_func(matrix.shape[0])) for matrix in matrices]\n",
    "\n",
    "def get_schur_compliment_times_wrapper(csv_file, m_func, qs):\n",
    "    original_matrix = get_matrix_from_csv(csv_file)\n",
    "    matrices = [scale_matrix(original_matrix, q) for q in qs]\n",
    "    return get_schur_compliment_times(matrices, m_func)"
   ]
  },
  {
   "cell_type": "markdown",
   "id": "a6499966",
   "metadata": {},
   "source": [
    "## Ad. 1\n",
    "Badamy algorytm na przykładzie macierzy IGA"
   ]
  },
  {
   "cell_type": "markdown",
   "id": "9cd8fd49",
   "metadata": {},
   "source": [
    "**Przygotowanie macierzy**"
   ]
  },
  {
   "cell_type": "code",
   "execution_count": null,
   "id": "48cb6693",
   "metadata": {},
   "outputs": [],
   "source": []
  },
  {
   "cell_type": "markdown",
   "id": "2ff0ef21",
   "metadata": {},
   "source": [
    "**Działanie dla parametru `m = n/2`**"
   ]
  },
  {
   "cell_type": "code",
   "execution_count": null,
   "id": "0c59f126",
   "metadata": {},
   "outputs": [],
   "source": []
  },
  {
   "cell_type": "markdown",
   "id": "cd96ef4b",
   "metadata": {},
   "source": [
    "**Działanie dla parametru `m = n/4`**"
   ]
  },
  {
   "cell_type": "code",
   "execution_count": null,
   "id": "d5a75f4a",
   "metadata": {},
   "outputs": [],
   "source": []
  },
  {
   "cell_type": "markdown",
   "id": "5f021aa0",
   "metadata": {},
   "source": [
    "**Działanie dla parametru `m = 1`**"
   ]
  },
  {
   "cell_type": "code",
   "execution_count": null,
   "id": "e456b19b",
   "metadata": {},
   "outputs": [],
   "source": []
  },
  {
   "cell_type": "markdown",
   "id": "0ae2b989",
   "metadata": {},
   "source": [
    "## Ad. 2\n",
    "Badamy algorytm na przykładzie macierzy FEM"
   ]
  },
  {
   "cell_type": "code",
   "execution_count": 13,
   "id": "f73c1f85",
   "metadata": {},
   "outputs": [],
   "source": [
    "csv_file = \"csv/fem81_2.csv\"\n",
    "qs = [2,3,4,5, 10]   # możliwe, że to trzeba będzie zmienić, żeby czasy były dłuższe\n",
    "\n",
    "m_half_fun = lambda n: n //2\n",
    "m_quater_fun = lambda n: n//4\n",
    "m_single_fun = lambda n: 1\n",
    "\n",
    "get_schur_compliment_times_for_fem = lambda m_fun: get_schur_compliment_times_wrapper(csv_file, m_fun, qs)"
   ]
  },
  {
   "cell_type": "markdown",
   "id": "e5f02810",
   "metadata": {},
   "source": [
    "**Działanie dla parametru `m = n/2`**"
   ]
  },
  {
   "cell_type": "code",
   "execution_count": 10,
   "id": "a60ebcc4",
   "metadata": {},
   "outputs": [
    {
     "name": "stderr",
     "output_type": "stream",
     "text": [
      "C:\\Users\\pawel\\anaconda3\\lib\\site-packages\\ipykernel_launcher.py:7: RuntimeWarning: invalid value encountered in true_divide\n",
      "  import sys\n"
     ]
    },
    {
     "name": "stdout",
     "output_type": "stream",
     "text": [
      "[0.0382, 0.09101, 0.1618, 0.27179, 1.21392]\n"
     ]
    }
   ],
   "source": [
    "times = get_schur_compliment_times_for_fem(m_half_fun)\n",
    "#show_line_plot(qs, times, ...)"
   ]
  },
  {
   "cell_type": "markdown",
   "id": "8cbd8f02",
   "metadata": {},
   "source": [
    "**Działanie dla parametru `m = n/4`**"
   ]
  },
  {
   "cell_type": "code",
   "execution_count": 11,
   "id": "e86f4948",
   "metadata": {},
   "outputs": [
    {
     "name": "stderr",
     "output_type": "stream",
     "text": [
      "C:\\Users\\pawel\\anaconda3\\lib\\site-packages\\ipykernel_launcher.py:7: RuntimeWarning: invalid value encountered in true_divide\n",
      "  import sys\n"
     ]
    },
    {
     "name": "stdout",
     "output_type": "stream",
     "text": [
      "[0.04681, 0.106, 0.1958, 0.3226, 1.54511]\n"
     ]
    }
   ],
   "source": [
    "times = get_schur_compliment_times_for_fem(m_quater_fun)\n",
    "#show_line_plot(qs, times, ...)"
   ]
  },
  {
   "cell_type": "markdown",
   "id": "5c8b4e0a",
   "metadata": {},
   "source": [
    "**Działanie dla parametru `m = 1`**"
   ]
  },
  {
   "cell_type": "code",
   "execution_count": 12,
   "id": "6e503dc1",
   "metadata": {},
   "outputs": [
    {
     "name": "stderr",
     "output_type": "stream",
     "text": [
      "C:\\Users\\pawel\\anaconda3\\lib\\site-packages\\ipykernel_launcher.py:7: RuntimeWarning: invalid value encountered in true_divide\n",
      "  import sys\n"
     ]
    },
    {
     "name": "stdout",
     "output_type": "stream",
     "text": [
      "[0.05, 0.1128, 0.206, 0.3462, 1.54322]\n"
     ]
    }
   ],
   "source": [
    "times = get_schur_compliment_times_for_fem(m_single_fun)\n",
    "#show_line_plot(qs, times, ...)"
   ]
  },
  {
   "cell_type": "markdown",
   "id": "07b7b650",
   "metadata": {},
   "source": [
    "## Ad. 3\n",
    "Obliczenie flops oraz mops"
   ]
  },
  {
   "cell_type": "markdown",
   "id": "47b2e65c",
   "metadata": {},
   "source": [
    "## Wnioski"
   ]
  }
 ],
 "metadata": {
  "kernelspec": {
   "display_name": "Python 3",
   "language": "python",
   "name": "python3"
  },
  "language_info": {
   "codemirror_mode": {
    "name": "ipython",
    "version": 3
   },
   "file_extension": ".py",
   "mimetype": "text/x-python",
   "name": "python",
   "nbconvert_exporter": "python",
   "pygments_lexer": "ipython3",
   "version": "3.7.6"
  }
 },
 "nbformat": 4,
 "nbformat_minor": 5
}
