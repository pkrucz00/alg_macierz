{
 "cells": [
  {
   "cell_type": "markdown",
   "metadata": {},
   "source": [
    "# Algorytmy macierzowe - eliminacja Gaussa\n",
    "## Wykonali: Robert Kazimirek, Paweł Kruczkiewicz\n",
    "\n",
    "\n",
    "**Numer ćwiczenia: 1**\n",
    "\n",
    "*Temat:* \n",
    "\n",
    "Treść ćwiczenia:\n"
   ]
  },
  {
   "cell_type": "code",
   "execution_count": 1,
   "metadata": {},
   "outputs": [],
   "source": [
    "import numpy as np\n",
    "import matplotlib.pyplot as plt"
   ]
  },
  {
   "cell_type": "markdown",
   "metadata": {},
   "source": [
    "### Badany algorytm"
   ]
  },
  {
   "cell_type": "code",
   "execution_count": 2,
   "metadata": {},
   "outputs": [],
   "source": [
    "def schur_compliment(A, m):\n",
    "    n = A.shape[0]\n",
    "    number_of_steps = min(n - m, n - 1)\n",
    "    for k in range(number_of_steps):\n",
    "        akk = A[k,k]\n",
    "        for j in range(k+1, n):\n",
    "            A[j, k:n] -= A[k, k:n]*A[j,k]/akk"
   ]
  },
  {
   "cell_type": "markdown",
   "metadata": {},
   "source": [
    "### Funkcje pomocnicze\n",
    "**Wczytywanie pliku csv z macierzą**"
   ]
  },
  {
   "cell_type": "code",
   "execution_count": 3,
   "metadata": {},
   "outputs": [],
   "source": [
    "def get_matrix_from_csv(csv_file):\n",
    "    return np.loadtxt(open(csv_file, \"rb\"), delimiter=\",\", skiprows=0)"
   ]
  },
  {
   "cell_type": "markdown",
   "metadata": {},
   "source": [
    "**Funkcja spy**"
   ]
  },
  {
   "cell_type": "code",
   "execution_count": 4,
   "metadata": {},
   "outputs": [],
   "source": [
    "def spy(matrix, label, plot):\n",
    "    mask = matrix == 0\n",
    "    plot.matshow(mask)"
   ]
  },
  {
   "cell_type": "markdown",
   "metadata": {},
   "source": [
    "**Funkcja \"powielająca\" macierz**, tj. dla podanego parametru `q` będacego liczbą naturalną oraz dla macierzy o wymiarach `n x n` zwraca macierz o wymiarach `(q*n) x (q*n)` będąca q-krotnym powtórzeniem wejściowym macierzy wzdłóż obu boków."
   ]
  },
  {
   "cell_type": "code",
   "execution_count": 5,
   "metadata": {},
   "outputs": [],
   "source": [
    "def scale_matrix(A, q):\n",
    "    B = np.vstack([A]*q)\n",
    "    C = np.hstack([B]*q)\n",
    "    return C"
   ]
  },
  {
   "cell_type": "markdown",
   "metadata": {},
   "source": [
    "**Pomiar czasu**"
   ]
  },
  {
   "cell_type": "code",
   "execution_count": 6,
   "metadata": {},
   "outputs": [],
   "source": [
    "from time import time\n",
    "\n",
    "def log_time(func):\n",
    "    t1 = time()\n",
    "    func()\n",
    "    t2 = time()\n",
    "    return t2 - t1"
   ]
  },
  {
   "cell_type": "markdown",
   "metadata": {},
   "source": [
    "**Rysowanie wykresu**"
   ]
  },
  {
   "cell_type": "code",
   "execution_count": 12,
   "metadata": {},
   "outputs": [],
   "source": [
    "def show_line_plot(x_vals, y_vals, title, x_label, y_label):\n",
    "    x_vals = [element * 81 for element in x_vals]\n",
    "    x_pos = list(range(len(x_vals)))\n",
    "    plt.plot(x_vals, y_vals, color='green')\n",
    "\n",
    "    plt.xlabel(x_label)\n",
    "    plt.ylabel(y_label)\n",
    "    plt.title(title)\n",
    "    plt.xticks(x_vals, x_vals)\n",
    "\n",
    "    plt.show()"
   ]
  },
  {
   "cell_type": "markdown",
   "metadata": {},
   "source": [
    "**Funkcja mierząca czas procedury**"
   ]
  },
  {
   "cell_type": "code",
   "execution_count": 8,
   "metadata": {},
   "outputs": [],
   "source": [
    "def get_schur_compliment_time(A, m):\n",
    "    number_of_experiments = 5\n",
    "    times = [log_time(lambda: schur_compliment(A.copy(), m))\n",
    "         for _ in range(number_of_experiments)]\n",
    "    return round(sum(times)/number_of_experiments, 5)\n",
    "\n",
    "def get_schur_compliment_times(matrices, m_func):\n",
    "    return [get_schur_compliment_time(matrix, m_func(matrix.shape[0])) for matrix in matrices]\n",
    "\n",
    "def get_schur_compliment_times_wrapper(csv_file, m_func, qs):\n",
    "    original_matrix = get_matrix_from_csv(csv_file)\n",
    "    matrices = [scale_matrix(original_matrix, q) for q in qs]\n",
    "    return get_schur_compliment_times(matrices, m_func)"
   ]
  },
  {
   "cell_type": "markdown",
   "metadata": {},
   "source": [
    "**Przygotowanie wywołania funkcji**"
   ]
  },
  {
   "cell_type": "code",
   "execution_count": 13,
   "metadata": {},
   "outputs": [],
   "source": [
    "qs = [1,2,3,4,5,10]   # możliwe, że to trzeba będzie zmienić, żeby czasy były dłuższe\n",
    "\n",
    "m_half_fun = lambda n: n//2\n",
    "m_quater_fun = lambda n: n//4\n",
    "m_single_fun = lambda n: 1\n",
    "\n",
    "get_schur_compliment_times_for_fem = lambda m_fun: get_schur_compliment_times_wrapper(csv_file, m_fun, qs)"
   ]
  },
  {
   "cell_type": "markdown",
   "metadata": {},
   "source": [
    "## Ad. 1\n",
    "Badamy algorytm na przykładzie macierzy IGA"
   ]
  },
  {
   "cell_type": "markdown",
   "metadata": {},
   "source": [
    "**Wybór macierzy**"
   ]
  },
  {
   "cell_type": "code",
   "execution_count": 10,
   "metadata": {},
   "outputs": [],
   "source": [
    "csv_file = \"csv/iga81_2.csv\""
   ]
  },
  {
   "cell_type": "markdown",
   "metadata": {},
   "source": [
    "**Działanie dla parametru `m = n/2`**"
   ]
  },
  {
   "cell_type": "code",
   "execution_count": 14,
   "metadata": {},
   "outputs": [
    {
     "name": "stderr",
     "output_type": "stream",
     "text": [
      "<ipython-input-2-2d029c5545c5>:7: RuntimeWarning: invalid value encountered in true_divide\n",
      "  A[j, k:n] -= A[k, k:n]*A[j,k]/akk\n"
     ]
    },
    {
     "data": {
      "image/png": "[encoded data removed]",
      "text/plain": [
       "<Figure size 432x288 with 1 Axes>"
      ]
     },
     "metadata": {
      "needs_background": "light"
     },
     "output_type": "display_data"
    }
   ],
   "source": [
    "times = get_schur_compliment_times_for_fem(m_half_fun)\n",
    "show_line_plot(qs, times, \"Czas obliczeń dopełnień Schura o rozmiarze n/2\", \"Rozmiar macierzy\", \"Czas[s]\")"
   ]
  },
  {
   "cell_type": "markdown",
   "metadata": {},
   "source": [
    "**Działanie dla parametru `m = n/4`**"
   ]
  },
  {
   "cell_type": "code",
   "execution_count": 107,
   "metadata": {},
   "outputs": [
    {
     "name": "stderr",
     "output_type": "stream",
     "text": [
      "<ipython-input-38-2d029c5545c5>:7: RuntimeWarning: invalid value encountered in true_divide\n",
      "  A[j, k:n] -= A[k, k:n]*A[j,k]/akk\n"
     ]
    },
    {
     "name": "stdout",
     "output_type": "stream",
     "text": [
      "[0, 1, 2, 3, 4, 5, 6]\n"
     ]
    },
    {
     "data": {
      "image/png": "[encoded data removed]",
      "text/plain": [
       "<Figure size 432x288 with 1 Axes>"
      ]
     },
     "metadata": {
      "needs_background": "light"
     },
     "output_type": "display_data"
    }
   ],
   "source": [
    "times = get_schur_compliment_times_for_fem(m_quater_fun)\n",
    "show_line_plot(qs, times, \"Czas obliczeń dopełnień Schura o rozmiarze n/4\", \"Rozmiar macierzy\", \"Czas[s]\")"
   ]
  },
  {
   "cell_type": "markdown",
   "metadata": {},
   "source": [
    "**Działanie dla parametru `m = 1`**"
   ]
  },
  {
   "cell_type": "code",
   "execution_count": 108,
   "metadata": {},
   "outputs": [
    {
     "name": "stderr",
     "output_type": "stream",
     "text": [
      "<ipython-input-38-2d029c5545c5>:7: RuntimeWarning: invalid value encountered in true_divide\n",
      "  A[j, k:n] -= A[k, k:n]*A[j,k]/akk\n"
     ]
    },
    {
     "name": "stdout",
     "output_type": "stream",
     "text": [
      "[0, 1, 2, 3, 4, 5, 6]\n"
     ]
    },
    {
     "data": {
      "image/png": "[encoded data removed]",
      "text/plain": [
       "<Figure size 432x288 with 1 Axes>"
      ]
     },
     "metadata": {
      "needs_background": "light"
     },
     "output_type": "display_data"
    }
   ],
   "source": [
    "times = get_schur_compliment_times_for_fem(m_single_fun)\n",
    "show_line_plot(qs, times, \"Czas obliczeń dopełnień Schura o rozmiarze 1\", \"Rozmiar macierzy\", \"Czas[s]\")"
   ]
  },
  {
   "cell_type": "markdown",
   "metadata": {},
   "source": [
    "## Ad. 2\n",
    "Badamy algorytm na przykładzie macierzy FEM"
   ]
  },
  {
   "cell_type": "markdown",
   "metadata": {},
   "source": [
    "**Wybór macierzy**"
   ]
  },
  {
   "cell_type": "code",
   "execution_count": 109,
   "metadata": {},
   "outputs": [],
   "source": [
    "csv_file = \"csv/fem81_2.csv\""
   ]
  },
  {
   "cell_type": "markdown",
   "metadata": {},
   "source": [
    "**Działanie dla parametru `m = n/2`**"
   ]
  },
  {
   "cell_type": "code",
   "execution_count": 110,
   "metadata": {},
   "outputs": [
    {
     "name": "stderr",
     "output_type": "stream",
     "text": [
      "<ipython-input-38-2d029c5545c5>:7: RuntimeWarning: invalid value encountered in true_divide\n",
      "  A[j, k:n] -= A[k, k:n]*A[j,k]/akk\n"
     ]
    },
    {
     "name": "stdout",
     "output_type": "stream",
     "text": [
      "[0, 1, 2, 3, 4, 5, 6]\n"
     ]
    },
    {
     "data": {
      "image/png": "[encoded data removed]",
      "text/plain": [
       "<Figure size 432x288 with 1 Axes>"
      ]
     },
     "metadata": {
      "needs_background": "light"
     },
     "output_type": "display_data"
    }
   ],
   "source": [
    "times = get_schur_compliment_times_for_fem(m_half_fun)\n",
    "show_line_plot(qs, times, \"Czas obliczeń dopełnień Schura o rozmiarze n/2\", \"Rozmiar macierzy\", \"Czas[s]\")"
   ]
  },
  {
   "cell_type": "markdown",
   "metadata": {},
   "source": [
    "**Działanie dla parametru `m = n/4`**"
   ]
  },
  {
   "cell_type": "code",
   "execution_count": 111,
   "metadata": {},
   "outputs": [
    {
     "name": "stderr",
     "output_type": "stream",
     "text": [
      "<ipython-input-38-2d029c5545c5>:7: RuntimeWarning: invalid value encountered in true_divide\n",
      "  A[j, k:n] -= A[k, k:n]*A[j,k]/akk\n"
     ]
    },
    {
     "name": "stdout",
     "output_type": "stream",
     "text": [
      "[0, 1, 2, 3, 4, 5, 6]\n"
     ]
    },
    {
     "data": {
      "image/png": "[encoded data removed]",
      "text/plain": [
       "<Figure size 432x288 with 1 Axes>"
      ]
     },
     "metadata": {
      "needs_background": "light"
     },
     "output_type": "display_data"
    }
   ],
   "source": [
    "times = get_schur_compliment_times_for_fem(m_quater_fun)\n",
    "show_line_plot(qs, times, \"Czas obliczeń dopełnień Schura o rozmiarze n/4\", \"Rozmiar macierzy\", \"Czas[s]\")"
   ]
  },
  {
   "cell_type": "markdown",
   "metadata": {},
   "source": [
    "**Działanie dla parametru `m = 1`**"
   ]
  },
  {
   "cell_type": "code",
   "execution_count": 112,
   "metadata": {},
   "outputs": [
    {
     "name": "stderr",
     "output_type": "stream",
     "text": [
      "<ipython-input-38-2d029c5545c5>:7: RuntimeWarning: invalid value encountered in true_divide\n",
      "  A[j, k:n] -= A[k, k:n]*A[j,k]/akk\n"
     ]
    },
    {
     "name": "stdout",
     "output_type": "stream",
     "text": [
      "[0, 1, 2, 3, 4, 5, 6]\n"
     ]
    },
    {
     "data": {
      "image/png": "[encoded data removed]",
      "text/plain": [
       "<Figure size 432x288 with 1 Axes>"
      ]
     },
     "metadata": {
      "needs_background": "light"
     },
     "output_type": "display_data"
    }
   ],
   "source": [
    "times = get_schur_compliment_times_for_fem(m_single_fun)\n",
    "show_line_plot(qs, times, \"Czas obliczeń dopełnień Schura o rozmiarze 1\", \"Rozmiar macierzy\", \"Czas[s]\")"
   ]
  },
  {
   "cell_type": "markdown",
   "metadata": {},
   "source": [
    "## Ad. 3\n",
    "Obliczenie flops oraz mops"
   ]
  },
  {
   "cell_type": "markdown",
   "metadata": {},
   "source": [
    "## Wnioski"
   ]
  }
 ],
 "metadata": {
  "kernelspec": {
   "display_name": "Python 3",
   "language": "python",
   "name": "python3"
  },
  "language_info": {
   "codemirror_mode": {
    "name": "ipython",
    "version": 3
   },
   "file_extension": ".py",
   "mimetype": "text/x-python",
   "name": "python",
   "nbconvert_exporter": "python",
   "pygments_lexer": "ipython3",
   "version": "3.8.5"
  }
 },
 "nbformat": 4,
 "nbformat_minor": 5
}
