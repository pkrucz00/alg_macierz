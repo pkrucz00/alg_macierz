{
 "cells": [
  {
   "cell_type": "markdown",
   "metadata": {},
   "source": [
    "# Algorytmy macierzowe - Eliminacja Gaussa i Cholesky’ego dla macierzy rzadkich, Algorytmy permutacji macierzy\n",
    "## Wykonali: Robert Kazimirek, Paweł Kruczkiewicz\n",
    "\n",
    "\n",
    "**Numer ćwiczenia: 5**\n",
    "\n",
    "*Temat:* Wierszowa rzadka eliminacja Gaussa w formacie Coordinate format.\n",
    "\n",
    "Treść ćwiczenia:\n",
    "1. Proszę zaimplementować ustaloną z prowadzącym wersję eliminacji Cholesky’ego\n",
    "lub Gaussa dla macierzy rzadkiej używając ustalonego formatu macierzy rzadkiej\n",
    "2. Proszę również zaimplementować ustaloną z prowadzącym wersję eliminacji\n",
    "Cholesky’ego lub Gaussa dla macierzy gęstej<br>\n",
    "3. \n",
    "    1. Proszę zastosować skrypt massmatrix najlepiej w MATLABie do wygenerowania\n",
    "macierzy massmatrix(0,18,2,0) daje nx=ny=18+2=20 oraz n=20\\*20=400 lub\n",
    "większej, proszę narysować wzór rzadkości macierzy sky(A)<br>\n",
    "    2. Proszę porównać czasy działania eliminacji rzadkiej i gęstej dla 3a<br>\n",
    "    3. Proszę porównać zużycie pamięci eliminacji rzadkiej i gęstej dla 3a<br>\n",
    "4. \n",
    "    1. Proszę zastosować skrypt massmatrix najlepiej w MATLABie do wygenerowania\n",
    "macierzy massmatrix(1,13,3,0) daje nx=ny=13+1+2\\*13=40 oraz n=40\\*40=1600,\n",
    "proszę narysować wzór rzadkości macierzy sky(A)<br>\n",
    "    2. Proszę porównać czasy działania eliminacji rzadkiej i gęstej dla 4a<br>\n",
    "    3. Proszę porównać zużycie pamięci eliminacji rzadkiej i gęstej dla 4a"
   ]
  },
  {
   "cell_type": "code",
   "execution_count": 1,
   "metadata": {},
   "outputs": [],
   "source": [
    "import numpy as np\n",
    "import matplotlib.pyplot as plt"
   ]
  },
  {
   "cell_type": "markdown",
   "metadata": {
    "collapsed": true
   },
   "source": [
    "### Ad. 1"
   ]
  },
  {
   "cell_type": "code",
   "execution_count": 2,
   "metadata": {},
   "outputs": [],
   "source": [
    "def sparse_elimination(A): \n",
    "    n = len(A)\n",
    "    for k, k_row_vals in enumerate(A):\n",
    "        akk = k_row_vals[k]\n",
    "        A[k] = { x: (v/akk if x > k else v) for x, v in k_row_vals.items()}\n",
    "        for j in range(k+1, n):\n",
    "            j_row_vals = A[j]\n",
    "            if k in j_row_vals:\n",
    "                ajk = j_row_vals[k]\n",
    "                A[j] = {i: (v - A[k].get(i, 0)*ajk if i > k else v) for i, v in j_row_vals.items()}            "
   ]
  },
  {
   "cell_type": "markdown",
   "metadata": {
    "pycharm": {
     "name": "#%% md\n"
    }
   },
   "source": [
    "### Ad. 2"
   ]
  },
  {
   "cell_type": "code",
   "execution_count": 3,
   "metadata": {
    "pycharm": {
     "name": "#%%\n"
    }
   },
   "outputs": [],
   "source": [
    "def dense_elimination(A):\n",
    "    n = len(A)\n",
    "    for k in range(n - 1):\n",
    "        akk = A[k][k]\n",
    "        for j in range(k+1, n):\n",
    "            for i in range(k, n):\n",
    "                A[j][i] -= A[k][i]*(A[j][k]/akk)"
   ]
  },
  {
   "cell_type": "markdown",
   "metadata": {
    "pycharm": {
     "name": "#%% md\n"
    }
   },
   "source": [
    "### Ad. 3a\n",
    "Wygenerowaliśmy dwie macierze za pomocą skryptu w języku C++, stworzonego przez Arkadiusza Wolka. Zostały one przekonwertowane do formatu csv, z którego zostały odczytane. Jedna odpowiada poleceniu massmatrix(0,18,2,0), a druga — massmatrix(0,48,2,0). Ich wielkości to odpowiednio 400x400 oraz 25000x25000."
   ]
  },
  {
   "cell_type": "code",
   "execution_count": 4,
   "metadata": {
    "pycharm": {
     "name": "#%%\n"
    }
   },
   "outputs": [],
   "source": [
    "def get_matrix_from_csv(csv_file):\n",
    "    return np.loadtxt(open(csv_file, \"rb\"), delimiter=\",\", skiprows=0)"
   ]
  },
  {
   "cell_type": "code",
   "execution_count": 26,
   "metadata": {},
   "outputs": [
    {
     "name": "stdout",
     "output_type": "stream",
     "text": [
      "(400, 400) (2500, 2500)\n"
     ]
    }
   ],
   "source": [
    "A = get_matrix_from_csv(\"matrices/matrix_0_18_2_0.csv\")\n",
    "B = get_matrix_from_csv(\"matrices/matrix_0_48_2_0.csv\")\n",
    "\n",
    "print(A.shape, B.shape)"
   ]
  },
  {
   "cell_type": "code",
   "execution_count": 27,
   "metadata": {},
   "outputs": [
    {
     "name": "stdout",
     "output_type": "stream",
     "text": [
      "Liczba niezerowych elementów macierzy A: 8836\n",
      "Procent niezerowych pól macierzy A: 5.5225 %\n",
      "\n",
      "Liczba niezerowych elementów macierzy B: 59536\n",
      "Procent niezerowych pól macierzy B: 0.952576 %\n"
     ]
    }
   ],
   "source": [
    "print(f\"Liczba niezerowych elementów macierzy A: {np.count_nonzero(A)}\")\n",
    "print(f\"Procent niezerowych pól macierzy A: {100*np.count_nonzero(A)/(A.shape[0])**2} %\")\n",
    "print()\n",
    "print(f\"Liczba niezerowych elementów macierzy B: {np.count_nonzero(B)}\")\n",
    "print(f\"Procent niezerowych pól macierzy B: {100*np.count_nonzero(B)/(B.shape[0])**2} %\")"
   ]
  },
  {
   "cell_type": "markdown",
   "metadata": {
    "pycharm": {
     "name": "#%% md\n"
    }
   },
   "source": [
    "Poniżej przedstawiamy niezerowe pola wejściowych oraz wyjściowe macierzy. Fiolet oznacza niezerową wartość, żółty oznacza zerową."
   ]
  },
  {
   "cell_type": "code",
   "execution_count": 28,
   "metadata": {
    "pycharm": {
     "name": "#%%\n"
    }
   },
   "outputs": [],
   "source": [
    "def spy(matrix, plot):\n",
    "    mask = matrix == 0\n",
    "    if matrix.shape[1] == 1:\n",
    "        plot.set_xticklabels(['', '0', '', '', '', '1'])\n",
    "        plot.matshow(mask, aspect=0.001)\n",
    "    else:\n",
    "        plot.matshow(mask, aspect='auto')"
   ]
  },
  {
   "cell_type": "code",
   "execution_count": 29,
   "metadata": {},
   "outputs": [
    {
     "data": {
      "image/png": "[encoded data removed]",
      "text/plain": [
       "<Figure size 864x432 with 2 Axes>"
      ]
     },
     "metadata": {
      "needs_background": "light"
     },
     "output_type": "display_data"
    }
   ],
   "source": [
    "fig, (plot_1, plot_2) = plt.subplots(1, 2, figsize=(12, 6))\n",
    "\n",
    "spy(A, plot_1)\n",
    "spy(B, plot_2)"
   ]
  },
  {
   "cell_type": "markdown",
   "metadata": {
    "pycharm": {
     "name": "#%% md\n"
    }
   },
   "source": [
    "Konwersja do Coordinate format"
   ]
  },
  {
   "cell_type": "code",
   "execution_count": 34,
   "metadata": {
    "pycharm": {
     "name": "#%%\n"
    }
   },
   "outputs": [],
   "source": [
    "def matrix_to_coordinates(A):\n",
    "    x_coords, y_coords = A.nonzero()\n",
    "    vals = A[x_coords, y_coords]\n",
    "    return list(zip(vals, x_coords, y_coords))\n",
    "\n",
    "def coordinates_to_row_coord(coord_matrix):\n",
    "    n = max([x[2] for x in coord_matrix]) + 1\n",
    "\n",
    "    row_lists = [{} for _ in range(n)]\n",
    "    for v, x, y in coord_matrix:\n",
    "        row_lists[y][x] = v\n",
    "\n",
    "    return row_lists\n",
    "        \n",
    "def matrix_to_row_coord(A):\n",
    "    A_coord = matrix_to_coordinates(A)\n",
    "    return coordinates_to_row_coord(A_coord)"
   ]
  },
  {
   "cell_type": "code",
   "execution_count": 35,
   "metadata": {},
   "outputs": [],
   "source": [
    "A_coord_row = matrix_to_row_coord(A)\n",
    "B_coord_row = matrix_to_row_coord(B)"
   ]
  },
  {
   "cell_type": "markdown",
   "metadata": {
    "pycharm": {
     "name": "#%% md\n"
    }
   },
   "source": [
    "### Ad. 3b\n",
    "Porównanie czasu eliminacji rzadkiej i gęstej dla macierzy z 3a"
   ]
  },
  {
   "cell_type": "code",
   "execution_count": 36,
   "metadata": {
    "pycharm": {
     "name": "#%%\n"
    }
   },
   "outputs": [],
   "source": [
    "from time import time\n",
    "\n",
    "def log_time(func, arg, message):\n",
    "    number_of_tests = 5\n",
    "    exec_times = []\n",
    "    arg_copy = arg.copy()\n",
    "    for _ in range(number_of_tests):\n",
    "        t1 = time()\n",
    "        func(arg_copy)\n",
    "        t2 = time()\n",
    "        exec_times.append(round(t2 - t1, 5))\n",
    "    \n",
    "    avg_time = round(sum(exec_times)/number_of_tests, 5)\n",
    "    print(f\"{message:8}: {avg_time} [s]\")\n",
    "    return avg_time"
   ]
  },
  {
   "cell_type": "code",
   "execution_count": 37,
   "metadata": {},
   "outputs": [
    {
     "name": "stdout",
     "output_type": "stream",
     "text": [
      "Czas eliminacji rzadkiej dla macierzy A: 0.07036 [s]\n",
      "Czas eliminacji gęstej dla macierzy A: 25.09279 [s]\n"
     ]
    }
   ],
   "source": [
    "sparse_elimination_time = log_time(lambda matrix: sparse_elimination(matrix), A_coord_row, \"Czas eliminacji rzadkiej dla macierzy A\")\n",
    "dense_elimination_time = log_time(lambda matrix: dense_elimination(matrix), A, \"Czas eliminacji gęstej dla macierzy A\")"
   ]
  },
  {
   "cell_type": "code",
   "execution_count": 38,
   "metadata": {},
   "outputs": [
    {
     "name": "stdout",
     "output_type": "stream",
     "text": [
      "macierz A\n"
     ]
    },
    {
     "data": {
      "text/plain": [
       "<BarContainer object of 2 artists>"
      ]
     },
     "execution_count": 38,
     "metadata": {},
     "output_type": "execute_result"
    },
    {
     "data": {
      "image/png": "[encoded data removed]",
      "text/plain": [
       "<Figure size 432x288 with 1 Axes>"
      ]
     },
     "metadata": {
      "needs_background": "light"
     },
     "output_type": "display_data"
    }
   ],
   "source": [
    "print('macierz A')\n",
    "plt.bar(['eliminacja rzadka', 'eliminacja gęsta'],\n",
    "        [sparse_elimination_time, dense_elimination_time])"
   ]
  },
  {
   "cell_type": "code",
   "execution_count": 39,
   "metadata": {},
   "outputs": [
    {
     "name": "stdout",
     "output_type": "stream",
     "text": [
      "Czas eliminacji rzadkiej dla macierzy B: 0.74417 [s]\n"
     ]
    },
    {
     "ename": "KeyboardInterrupt",
     "evalue": "",
     "output_type": "error",
     "traceback": [
      "\u001b[1;31m---------------------------------------------------------------------------\u001b[0m",
      "\u001b[1;31mKeyboardInterrupt\u001b[0m                         Traceback (most recent call last)",
      "\u001b[1;32m<ipython-input-39-3d175e96415c>\u001b[0m in \u001b[0;36m<module>\u001b[1;34m\u001b[0m\n\u001b[0;32m      1\u001b[0m \u001b[0msparse_elimination_time_B\u001b[0m \u001b[1;33m=\u001b[0m \u001b[0mlog_time\u001b[0m\u001b[1;33m(\u001b[0m\u001b[1;32mlambda\u001b[0m \u001b[0mmatrix\u001b[0m\u001b[1;33m:\u001b[0m \u001b[0msparse_elimination\u001b[0m\u001b[1;33m(\u001b[0m\u001b[0mmatrix\u001b[0m\u001b[1;33m)\u001b[0m\u001b[1;33m,\u001b[0m \u001b[0mB_coord_row\u001b[0m\u001b[1;33m,\u001b[0m \u001b[1;34m\"Czas eliminacji rzadkiej dla macierzy B\"\u001b[0m\u001b[1;33m)\u001b[0m\u001b[1;33m\u001b[0m\u001b[1;33m\u001b[0m\u001b[0m\n\u001b[1;32m----> 2\u001b[1;33m \u001b[0mdense_elimination_time_B\u001b[0m \u001b[1;33m=\u001b[0m \u001b[0mlog_time\u001b[0m\u001b[1;33m(\u001b[0m\u001b[1;32mlambda\u001b[0m \u001b[0mmatrix\u001b[0m\u001b[1;33m:\u001b[0m \u001b[0mdense_elimination\u001b[0m\u001b[1;33m(\u001b[0m\u001b[0mmatrix\u001b[0m\u001b[1;33m)\u001b[0m\u001b[1;33m,\u001b[0m \u001b[0mB\u001b[0m\u001b[1;33m,\u001b[0m \u001b[1;34m\"Czas eliminacji gęstej dla macierzy B\"\u001b[0m\u001b[1;33m)\u001b[0m\u001b[1;33m\u001b[0m\u001b[1;33m\u001b[0m\u001b[0m\n\u001b[0m",
      "\u001b[1;32m<ipython-input-36-b0c3735e5661>\u001b[0m in \u001b[0;36mlog_time\u001b[1;34m(func, arg, message)\u001b[0m\n\u001b[0;32m      7\u001b[0m     \u001b[1;32mfor\u001b[0m \u001b[0m_\u001b[0m \u001b[1;32min\u001b[0m \u001b[0mrange\u001b[0m\u001b[1;33m(\u001b[0m\u001b[0mnumber_of_tests\u001b[0m\u001b[1;33m)\u001b[0m\u001b[1;33m:\u001b[0m\u001b[1;33m\u001b[0m\u001b[1;33m\u001b[0m\u001b[0m\n\u001b[0;32m      8\u001b[0m         \u001b[0mt1\u001b[0m \u001b[1;33m=\u001b[0m \u001b[0mtime\u001b[0m\u001b[1;33m(\u001b[0m\u001b[1;33m)\u001b[0m\u001b[1;33m\u001b[0m\u001b[1;33m\u001b[0m\u001b[0m\n\u001b[1;32m----> 9\u001b[1;33m         \u001b[0mfunc\u001b[0m\u001b[1;33m(\u001b[0m\u001b[0marg_copy\u001b[0m\u001b[1;33m)\u001b[0m\u001b[1;33m\u001b[0m\u001b[1;33m\u001b[0m\u001b[0m\n\u001b[0m\u001b[0;32m     10\u001b[0m         \u001b[0mt2\u001b[0m \u001b[1;33m=\u001b[0m \u001b[0mtime\u001b[0m\u001b[1;33m(\u001b[0m\u001b[1;33m)\u001b[0m\u001b[1;33m\u001b[0m\u001b[1;33m\u001b[0m\u001b[0m\n\u001b[0;32m     11\u001b[0m         \u001b[0mexec_times\u001b[0m\u001b[1;33m.\u001b[0m\u001b[0mappend\u001b[0m\u001b[1;33m(\u001b[0m\u001b[0mround\u001b[0m\u001b[1;33m(\u001b[0m\u001b[0mt2\u001b[0m \u001b[1;33m-\u001b[0m \u001b[0mt1\u001b[0m\u001b[1;33m,\u001b[0m \u001b[1;36m5\u001b[0m\u001b[1;33m)\u001b[0m\u001b[1;33m)\u001b[0m\u001b[1;33m\u001b[0m\u001b[1;33m\u001b[0m\u001b[0m\n",
      "\u001b[1;32m<ipython-input-39-3d175e96415c>\u001b[0m in \u001b[0;36m<lambda>\u001b[1;34m(matrix)\u001b[0m\n\u001b[0;32m      1\u001b[0m \u001b[0msparse_elimination_time_B\u001b[0m \u001b[1;33m=\u001b[0m \u001b[0mlog_time\u001b[0m\u001b[1;33m(\u001b[0m\u001b[1;32mlambda\u001b[0m \u001b[0mmatrix\u001b[0m\u001b[1;33m:\u001b[0m \u001b[0msparse_elimination\u001b[0m\u001b[1;33m(\u001b[0m\u001b[0mmatrix\u001b[0m\u001b[1;33m)\u001b[0m\u001b[1;33m,\u001b[0m \u001b[0mB_coord_row\u001b[0m\u001b[1;33m,\u001b[0m \u001b[1;34m\"Czas eliminacji rzadkiej dla macierzy B\"\u001b[0m\u001b[1;33m)\u001b[0m\u001b[1;33m\u001b[0m\u001b[1;33m\u001b[0m\u001b[0m\n\u001b[1;32m----> 2\u001b[1;33m \u001b[0mdense_elimination_time_B\u001b[0m \u001b[1;33m=\u001b[0m \u001b[0mlog_time\u001b[0m\u001b[1;33m(\u001b[0m\u001b[1;32mlambda\u001b[0m \u001b[0mmatrix\u001b[0m\u001b[1;33m:\u001b[0m \u001b[0mdense_elimination\u001b[0m\u001b[1;33m(\u001b[0m\u001b[0mmatrix\u001b[0m\u001b[1;33m)\u001b[0m\u001b[1;33m,\u001b[0m \u001b[0mB\u001b[0m\u001b[1;33m,\u001b[0m \u001b[1;34m\"Czas eliminacji gęstej dla macierzy B\"\u001b[0m\u001b[1;33m)\u001b[0m\u001b[1;33m\u001b[0m\u001b[1;33m\u001b[0m\u001b[0m\n\u001b[0m",
      "\u001b[1;32m<ipython-input-3-1fdae792c14a>\u001b[0m in \u001b[0;36mdense_elimination\u001b[1;34m(A)\u001b[0m\n\u001b[0;32m      5\u001b[0m         \u001b[1;32mfor\u001b[0m \u001b[0mj\u001b[0m \u001b[1;32min\u001b[0m \u001b[0mrange\u001b[0m\u001b[1;33m(\u001b[0m\u001b[0mk\u001b[0m\u001b[1;33m+\u001b[0m\u001b[1;36m1\u001b[0m\u001b[1;33m,\u001b[0m \u001b[0mn\u001b[0m\u001b[1;33m)\u001b[0m\u001b[1;33m:\u001b[0m\u001b[1;33m\u001b[0m\u001b[1;33m\u001b[0m\u001b[0m\n\u001b[0;32m      6\u001b[0m             \u001b[1;32mfor\u001b[0m \u001b[0mi\u001b[0m \u001b[1;32min\u001b[0m \u001b[0mrange\u001b[0m\u001b[1;33m(\u001b[0m\u001b[0mk\u001b[0m\u001b[1;33m,\u001b[0m \u001b[0mn\u001b[0m\u001b[1;33m)\u001b[0m\u001b[1;33m:\u001b[0m\u001b[1;33m\u001b[0m\u001b[1;33m\u001b[0m\u001b[0m\n\u001b[1;32m----> 7\u001b[1;33m                 \u001b[0mA\u001b[0m\u001b[1;33m[\u001b[0m\u001b[0mj\u001b[0m\u001b[1;33m]\u001b[0m\u001b[1;33m[\u001b[0m\u001b[0mi\u001b[0m\u001b[1;33m]\u001b[0m \u001b[1;33m-=\u001b[0m \u001b[0mA\u001b[0m\u001b[1;33m[\u001b[0m\u001b[0mk\u001b[0m\u001b[1;33m]\u001b[0m\u001b[1;33m[\u001b[0m\u001b[0mi\u001b[0m\u001b[1;33m]\u001b[0m\u001b[1;33m*\u001b[0m\u001b[1;33m(\u001b[0m\u001b[0mA\u001b[0m\u001b[1;33m[\u001b[0m\u001b[0mj\u001b[0m\u001b[1;33m]\u001b[0m\u001b[1;33m[\u001b[0m\u001b[0mk\u001b[0m\u001b[1;33m]\u001b[0m\u001b[1;33m/\u001b[0m\u001b[0makk\u001b[0m\u001b[1;33m)\u001b[0m\u001b[1;33m\u001b[0m\u001b[1;33m\u001b[0m\u001b[0m\n\u001b[0m",
      "\u001b[1;31mKeyboardInterrupt\u001b[0m: "
     ]
    }
   ],
   "source": [
    "sparse_elimination_time_B = log_time(lambda matrix: sparse_elimination(matrix), B_coord_row, \"Czas eliminacji rzadkiej dla macierzy B\")\n",
    "dense_elimination_time_B = log_time(lambda matrix: dense_elimination(matrix), B, \"Czas eliminacji gęstej dla macierzy B\")"
   ]
  },
  {
   "cell_type": "markdown",
   "metadata": {},
   "source": [
    "Niestety, testowanie czasu wykonania mnożenia macierzy po niemal 5 h czekania zostało zatrzymane. Pozostawiono wpis o niej w sprawozdaniu, aby pokazać, jak nieporoporcjonalnie dłuższa jest ta procedura dla klasycznego algorytmu."
   ]
  },
  {
   "cell_type": "markdown",
   "metadata": {},
   "source": [
    "### Ad. 3c\n",
    "W ramach tego zadania liczymy liczbę memopsów dla obu algorytmów.\n",
    "\n",
    "#### Dla mnożenia macierzy gęstych\n",
    "Skorzystamy z gotowego wzoru maematycznego, ponieważ był on użyty w poprzednich ćwiczeniach. Łatwiej jest również w tym wypadku podłożyć liczby do wzoru niż uruchamiać tenże wolny algorytm ponownie.\n",
    "\n",
    "Wzór wygląda następująco: ![Memopsy obliczone](screeny/memop_gesta.png)\n",
    "\n",
    "\n",
    "Wg powyższego wzoru macirz A wykonuje **21 572 600** zapisów do pamięci, natomiast macierz B potrzebowałaby ich aż **5 217 703 750**\n",
    "\n",
    "#### Dla mnożenia macierzy rzadkich\n",
    "Tutaj, ponieważ liczba wykonywanych operacji jest różna w każdej iteracji w zalęzności od tego, ile wartości znajduje się w danym wierszu, zdecydowano się użyć zmodyfikowanej wersji powyższego algorytmu, aby zliczyć wszsytkie zmiany w pamięci potrzebne do wykonania algorytmu.\n",
    "\n",
    "Uznano (być może nieco mylnie, ale nie zmienia to ostatecznie znacząco wyniku), że każde *dict comprehension* użyte w poniższym algorytmie zużywa 3 * *\\[liczba_niezerowych_elem_w_wierszu\\]* wpisów do pamięci (2 na przypisanie wartości w pętlach, 1 na zapisanie pary *klucz:wartość*)."
   ]
  },
  {
   "cell_type": "code",
   "execution_count": 40,
   "metadata": {},
   "outputs": [],
   "source": [
    "def sparse_elimination_printing_memops(A): \n",
    "    memop_counter = 0\n",
    "    \n",
    "    n = len(A)\n",
    "    memop_counter += 1\n",
    "    \n",
    "    for k, k_row_vals in enumerate(A):\n",
    "        memop_counter += 2\n",
    "        \n",
    "        akk = k_row_vals[k]\n",
    "        memop_counter += 1\n",
    "        \n",
    "        A[k] = { x: (v/akk if x > k else v) for x, v in k_row_vals.items()}\n",
    "        memop_counter += 3*len(k_row_vals)\n",
    "        \n",
    "        for j in range(k+1, n):\n",
    "            memop_counter += 1\n",
    "            \n",
    "            j_row_vals = A[j]\n",
    "            memop_counter += 1\n",
    "            \n",
    "            if k in j_row_vals:\n",
    "                ajk = j_row_vals[k]\n",
    "                memop_counter += 1\n",
    "                \n",
    "                A[j] = {i: (v - A[k].get(i, 0)*ajk if i > k else v) for i, v in j_row_vals.items()}\n",
    "                memop_counter += 3*len(j_row_vals)\n",
    "    \n",
    "    print(f\"Liczba wykonanych operacji na pamięci: {memop_counter}\")"
   ]
  },
  {
   "cell_type": "markdown",
   "metadata": {},
   "source": [
    "Używamy zatem powyższego algorytmu do obliczenia potrzebnej pamieci:"
   ]
  },
  {
   "cell_type": "code",
   "execution_count": 41,
   "metadata": {},
   "outputs": [
    {
     "name": "stdout",
     "output_type": "stream",
     "text": [
      "Dla macierzy A:\n",
      "Liczba wykonanych operacji na pamięci: 482023\n",
      "\n",
      "Dla macierzy B:\n",
      "Liczba wykonanych operacji na pamięci: 8532823\n"
     ]
    }
   ],
   "source": [
    "print(\"Dla macierzy A:\")\n",
    "sparse_elimination_printing_memops(A_coord_row)\n",
    "print()\n",
    "\n",
    "print(\"Dla macierzy B:\")\n",
    "sparse_elimination_printing_memops(B_coord_row)"
   ]
  },
  {
   "cell_type": "markdown",
   "metadata": {},
   "source": [
    "Jak widać, liczba operacji spadła w obu przypadkach o kilka rzędów wielkości. Teraz koszt pamieciowy dla macierzy B jest mniejszy trzykrotnie niz przy klasycznym algorytmie dla macierzy A."
   ]
  },
  {
   "cell_type": "markdown",
   "metadata": {},
   "source": [
    "### Ad. 4a\n",
    "Ponownie wygenerowaliśmy dwie macierze za pomocą skryptu w języku C++, stworzonego przez Arkadiusza Wolka. Ponownie zostały one przekonwertowane do formatu csv, z którego zostały odczytane. Jedna odpowiada poleceniu massmatrix(1,13,3,0), a druga — massmatrix(1,19,3,0). Ich wielkości to odpowiednio 784x784 oraz 1600x1600."
   ]
  },
  {
   "cell_type": "code",
   "execution_count": 43,
   "metadata": {},
   "outputs": [
    {
     "name": "stdout",
     "output_type": "stream",
     "text": [
      "(784, 784) (1600, 1600)\n"
     ]
    }
   ],
   "source": [
    "C = get_matrix_from_csv(\"matrices/matrix_1_13_3_0.csv\")\n",
    "D = get_matrix_from_csv(\"matrices/matrix_1_19_3_0.csv\")\n",
    "print(C.shape, D.shape)"
   ]
  },
  {
   "cell_type": "code",
   "execution_count": 44,
   "metadata": {},
   "outputs": [
    {
     "name": "stdout",
     "output_type": "stream",
     "text": [
      "Liczba niezerowych elementów macierzy C: 25600\n",
      "Procent niezerowych pól macierzy C: 4.164931278633903 %\n",
      "\n",
      "Liczba niezerowych elementów macierzy D: 53824\n",
      "Procent niezerowych pól macierzy D: 2.1025 %\n"
     ]
    }
   ],
   "source": [
    "print(f\"Liczba niezerowych elementów macierzy C: {np.count_nonzero(C)}\")\n",
    "print(f\"Procent niezerowych pól macierzy C: {100*np.count_nonzero(C)/(C.shape[0])**2} %\")\n",
    "print()\n",
    "print(f\"Liczba niezerowych elementów macierzy D: {np.count_nonzero(D)}\")\n",
    "print(f\"Procent niezerowych pól macierzy D: {100*np.count_nonzero(D)/(D.shape[0])**2} %\")"
   ]
  },
  {
   "cell_type": "markdown",
   "metadata": {},
   "source": [
    "Poniżej przedstawiamy niezerowe pola wejściowych oraz wyjściowe macierzy. Fiolet oznacza niezerową wartość, żółty oznacza zerową."
   ]
  },
  {
   "cell_type": "code",
   "execution_count": 45,
   "metadata": {},
   "outputs": [
    {
     "data": {
      "image/png": "[encoded data removed]",
      "text/plain": [
       "<Figure size 864x432 with 2 Axes>"
      ]
     },
     "metadata": {
      "needs_background": "light"
     },
     "output_type": "display_data"
    }
   ],
   "source": [
    "fig, (plot_1, plot_2) = plt.subplots(1, 2, figsize=(12, 6))\n",
    "\n",
    "spy(C, plot_1)\n",
    "spy(D, plot_2)"
   ]
  },
  {
   "cell_type": "markdown",
   "metadata": {},
   "source": [
    "Konwersja do Coordinate format"
   ]
  },
  {
   "cell_type": "code",
   "execution_count": 46,
   "metadata": {},
   "outputs": [],
   "source": [
    "C_coordinate = matrix_to_row_coord(C)\n",
    "D_coordinate = matrix_to_row_coord(D)"
   ]
  },
  {
   "cell_type": "markdown",
   "metadata": {},
   "source": [
    "### Ad. 4b\n",
    "Porównanie czasu eliminacji rzadkiej i gęstej dla macierzy z 4a"
   ]
  },
  {
   "cell_type": "code",
   "execution_count": 47,
   "metadata": {},
   "outputs": [
    {
     "name": "stdout",
     "output_type": "stream",
     "text": [
      "Czas eliminacji rzadkiej dla macierzy C: 0.29363 [s]\n",
      "Czas eliminacji gęstej dla macierzy C: 195.41347 [s]\n"
     ]
    }
   ],
   "source": [
    "sparse_elimination_time_C = log_time(lambda matrix: sparse_elimination(matrix), C_coordinate, \"Czas eliminacji rzadkiej dla macierzy C\")\n",
    "dense_elimination_time_C = log_time(lambda matrix: dense_elimination(matrix), C, \"Czas eliminacji gęstej dla macierzy C\")"
   ]
  },
  {
   "cell_type": "code",
   "execution_count": 48,
   "metadata": {},
   "outputs": [
    {
     "name": "stdout",
     "output_type": "stream",
     "text": [
      "macierz C\n"
     ]
    },
    {
     "data": {
      "text/plain": [
       "<BarContainer object of 2 artists>"
      ]
     },
     "execution_count": 48,
     "metadata": {},
     "output_type": "execute_result"
    },
    {
     "data": {
      "image/png": "[encoded data removed]",
      "text/plain": [
       "<Figure size 432x288 with 1 Axes>"
      ]
     },
     "metadata": {
      "needs_background": "light"
     },
     "output_type": "display_data"
    }
   ],
   "source": [
    "print('macierz C')\n",
    "plt.bar(['eliminacja rzadka', 'eliminacja gęsta'],\n",
    "        [sparse_elimination_time_C, dense_elimination_time_C])"
   ]
  },
  {
   "cell_type": "code",
   "execution_count": 49,
   "metadata": {},
   "outputs": [
    {
     "name": "stdout",
     "output_type": "stream",
     "text": [
      "Czas eliminacji rzadkiej dla macierzy D: 0.7776 [s]\n"
     ]
    },
    {
     "ename": "KeyboardInterrupt",
     "evalue": "",
     "output_type": "error",
     "traceback": [
      "\u001b[1;31m---------------------------------------------------------------------------\u001b[0m",
      "\u001b[1;31mKeyboardInterrupt\u001b[0m                         Traceback (most recent call last)",
      "\u001b[1;32m<ipython-input-49-3bc0497213a0>\u001b[0m in \u001b[0;36m<module>\u001b[1;34m\u001b[0m\n\u001b[0;32m      1\u001b[0m \u001b[0msparse_elimination_time\u001b[0m \u001b[1;33m=\u001b[0m \u001b[0mlog_time\u001b[0m\u001b[1;33m(\u001b[0m\u001b[1;32mlambda\u001b[0m \u001b[0mmatrix\u001b[0m\u001b[1;33m:\u001b[0m \u001b[0msparse_elimination\u001b[0m\u001b[1;33m(\u001b[0m\u001b[0mmatrix\u001b[0m\u001b[1;33m)\u001b[0m\u001b[1;33m,\u001b[0m \u001b[0mD_coordinate\u001b[0m\u001b[1;33m,\u001b[0m \u001b[1;34m\"Czas eliminacji rzadkiej dla macierzy D\"\u001b[0m\u001b[1;33m)\u001b[0m\u001b[1;33m\u001b[0m\u001b[1;33m\u001b[0m\u001b[0m\n\u001b[1;32m----> 2\u001b[1;33m \u001b[0mdense_elimination_time\u001b[0m \u001b[1;33m=\u001b[0m \u001b[0mlog_time\u001b[0m\u001b[1;33m(\u001b[0m\u001b[1;32mlambda\u001b[0m \u001b[0mmatrix\u001b[0m\u001b[1;33m:\u001b[0m \u001b[0mdense_elimination\u001b[0m\u001b[1;33m(\u001b[0m\u001b[0mmatrix\u001b[0m\u001b[1;33m)\u001b[0m\u001b[1;33m,\u001b[0m \u001b[0mD\u001b[0m\u001b[1;33m,\u001b[0m \u001b[1;34m\"Czas eliminacji gęstej dla macierzy D\"\u001b[0m\u001b[1;33m)\u001b[0m\u001b[1;33m\u001b[0m\u001b[1;33m\u001b[0m\u001b[0m\n\u001b[0m",
      "\u001b[1;32m<ipython-input-36-b0c3735e5661>\u001b[0m in \u001b[0;36mlog_time\u001b[1;34m(func, arg, message)\u001b[0m\n\u001b[0;32m      7\u001b[0m     \u001b[1;32mfor\u001b[0m \u001b[0m_\u001b[0m \u001b[1;32min\u001b[0m \u001b[0mrange\u001b[0m\u001b[1;33m(\u001b[0m\u001b[0mnumber_of_tests\u001b[0m\u001b[1;33m)\u001b[0m\u001b[1;33m:\u001b[0m\u001b[1;33m\u001b[0m\u001b[1;33m\u001b[0m\u001b[0m\n\u001b[0;32m      8\u001b[0m         \u001b[0mt1\u001b[0m \u001b[1;33m=\u001b[0m \u001b[0mtime\u001b[0m\u001b[1;33m(\u001b[0m\u001b[1;33m)\u001b[0m\u001b[1;33m\u001b[0m\u001b[1;33m\u001b[0m\u001b[0m\n\u001b[1;32m----> 9\u001b[1;33m         \u001b[0mfunc\u001b[0m\u001b[1;33m(\u001b[0m\u001b[0marg_copy\u001b[0m\u001b[1;33m)\u001b[0m\u001b[1;33m\u001b[0m\u001b[1;33m\u001b[0m\u001b[0m\n\u001b[0m\u001b[0;32m     10\u001b[0m         \u001b[0mt2\u001b[0m \u001b[1;33m=\u001b[0m \u001b[0mtime\u001b[0m\u001b[1;33m(\u001b[0m\u001b[1;33m)\u001b[0m\u001b[1;33m\u001b[0m\u001b[1;33m\u001b[0m\u001b[0m\n\u001b[0;32m     11\u001b[0m         \u001b[0mexec_times\u001b[0m\u001b[1;33m.\u001b[0m\u001b[0mappend\u001b[0m\u001b[1;33m(\u001b[0m\u001b[0mround\u001b[0m\u001b[1;33m(\u001b[0m\u001b[0mt2\u001b[0m \u001b[1;33m-\u001b[0m \u001b[0mt1\u001b[0m\u001b[1;33m,\u001b[0m \u001b[1;36m5\u001b[0m\u001b[1;33m)\u001b[0m\u001b[1;33m)\u001b[0m\u001b[1;33m\u001b[0m\u001b[1;33m\u001b[0m\u001b[0m\n",
      "\u001b[1;32m<ipython-input-49-3bc0497213a0>\u001b[0m in \u001b[0;36m<lambda>\u001b[1;34m(matrix)\u001b[0m\n\u001b[0;32m      1\u001b[0m \u001b[0msparse_elimination_time\u001b[0m \u001b[1;33m=\u001b[0m \u001b[0mlog_time\u001b[0m\u001b[1;33m(\u001b[0m\u001b[1;32mlambda\u001b[0m \u001b[0mmatrix\u001b[0m\u001b[1;33m:\u001b[0m \u001b[0msparse_elimination\u001b[0m\u001b[1;33m(\u001b[0m\u001b[0mmatrix\u001b[0m\u001b[1;33m)\u001b[0m\u001b[1;33m,\u001b[0m \u001b[0mD_coordinate\u001b[0m\u001b[1;33m,\u001b[0m \u001b[1;34m\"Czas eliminacji rzadkiej dla macierzy D\"\u001b[0m\u001b[1;33m)\u001b[0m\u001b[1;33m\u001b[0m\u001b[1;33m\u001b[0m\u001b[0m\n\u001b[1;32m----> 2\u001b[1;33m \u001b[0mdense_elimination_time\u001b[0m \u001b[1;33m=\u001b[0m \u001b[0mlog_time\u001b[0m\u001b[1;33m(\u001b[0m\u001b[1;32mlambda\u001b[0m \u001b[0mmatrix\u001b[0m\u001b[1;33m:\u001b[0m \u001b[0mdense_elimination\u001b[0m\u001b[1;33m(\u001b[0m\u001b[0mmatrix\u001b[0m\u001b[1;33m)\u001b[0m\u001b[1;33m,\u001b[0m \u001b[0mD\u001b[0m\u001b[1;33m,\u001b[0m \u001b[1;34m\"Czas eliminacji gęstej dla macierzy D\"\u001b[0m\u001b[1;33m)\u001b[0m\u001b[1;33m\u001b[0m\u001b[1;33m\u001b[0m\u001b[0m\n\u001b[0m",
      "\u001b[1;32m<ipython-input-3-1fdae792c14a>\u001b[0m in \u001b[0;36mdense_elimination\u001b[1;34m(A)\u001b[0m\n\u001b[0;32m      5\u001b[0m         \u001b[1;32mfor\u001b[0m \u001b[0mj\u001b[0m \u001b[1;32min\u001b[0m \u001b[0mrange\u001b[0m\u001b[1;33m(\u001b[0m\u001b[0mk\u001b[0m\u001b[1;33m+\u001b[0m\u001b[1;36m1\u001b[0m\u001b[1;33m,\u001b[0m \u001b[0mn\u001b[0m\u001b[1;33m)\u001b[0m\u001b[1;33m:\u001b[0m\u001b[1;33m\u001b[0m\u001b[1;33m\u001b[0m\u001b[0m\n\u001b[0;32m      6\u001b[0m             \u001b[1;32mfor\u001b[0m \u001b[0mi\u001b[0m \u001b[1;32min\u001b[0m \u001b[0mrange\u001b[0m\u001b[1;33m(\u001b[0m\u001b[0mk\u001b[0m\u001b[1;33m,\u001b[0m \u001b[0mn\u001b[0m\u001b[1;33m)\u001b[0m\u001b[1;33m:\u001b[0m\u001b[1;33m\u001b[0m\u001b[1;33m\u001b[0m\u001b[0m\n\u001b[1;32m----> 7\u001b[1;33m                 \u001b[0mA\u001b[0m\u001b[1;33m[\u001b[0m\u001b[0mj\u001b[0m\u001b[1;33m]\u001b[0m\u001b[1;33m[\u001b[0m\u001b[0mi\u001b[0m\u001b[1;33m]\u001b[0m \u001b[1;33m-=\u001b[0m \u001b[0mA\u001b[0m\u001b[1;33m[\u001b[0m\u001b[0mk\u001b[0m\u001b[1;33m]\u001b[0m\u001b[1;33m[\u001b[0m\u001b[0mi\u001b[0m\u001b[1;33m]\u001b[0m\u001b[1;33m*\u001b[0m\u001b[1;33m(\u001b[0m\u001b[0mA\u001b[0m\u001b[1;33m[\u001b[0m\u001b[0mj\u001b[0m\u001b[1;33m]\u001b[0m\u001b[1;33m[\u001b[0m\u001b[0mk\u001b[0m\u001b[1;33m]\u001b[0m\u001b[1;33m/\u001b[0m\u001b[0makk\u001b[0m\u001b[1;33m)\u001b[0m\u001b[1;33m\u001b[0m\u001b[1;33m\u001b[0m\u001b[0m\n\u001b[0m",
      "\u001b[1;31mKeyboardInterrupt\u001b[0m: "
     ]
    }
   ],
   "source": [
    "sparse_elimination_time = log_time(lambda matrix: sparse_elimination(matrix), D_coordinate, \"Czas eliminacji rzadkiej dla macierzy D\")\n",
    "dense_elimination_time = log_time(lambda matrix: dense_elimination(matrix), D, \"Czas eliminacji gęstej dla macierzy D\")"
   ]
  },
  {
   "cell_type": "markdown",
   "metadata": {},
   "source": [
    "Niestety, powyżej powtórzyła się sytuacja z punktu 3."
   ]
  },
  {
   "cell_type": "markdown",
   "metadata": {},
   "source": [
    "### Ad. 4c\n",
    "#### Dla macierzy gęstych\n",
    "Ponownie korzystamy z danego w punkcie 3c wzoru matematycznego.\n",
    "\n",
    "Macierz C: **161 550 648**\n",
    "\n",
    "Macierz D: **1 369 170 400**<br>\n",
    "\n",
    "#### Dla macierzy rzadkich\n",
    "\n",
    "Znów korzystamy z algorytmu z punktu 3c"
   ]
  },
  {
   "cell_type": "code",
   "execution_count": 50,
   "metadata": {},
   "outputs": [
    {
     "name": "stdout",
     "output_type": "stream",
     "text": [
      "Dla macierzy C:\n",
      "Liczba wykonanych operacji na pamięci: 1958809\n",
      "\n",
      "Dla macierzy D:\n",
      "Liczba wykonanych operacji na pamięci: 5444449\n"
     ]
    }
   ],
   "source": [
    "print(\"Dla macierzy C:\")\n",
    "sparse_elimination_printing_memops(C_coordinate)\n",
    "print()\n",
    "\n",
    "print(\"Dla macierzy D:\")\n",
    "sparse_elimination_printing_memops(D_coordinate)"
   ]
  },
  {
   "cell_type": "markdown",
   "metadata": {},
   "source": [
    "Dla macierzy C liczba operacji pamięciowych zmniejszyła się o 2 rzędy wielkości, a dla D o 3 rzędy wielkości"
   ]
  },
  {
   "cell_type": "markdown",
   "metadata": {},
   "source": [
    "### Wnioski:"
   ]
  },
  {
   "cell_type": "markdown",
   "metadata": {},
   "source": [
    "To ćwiczenie pokazało, że wykorzystanie właściwości macierzy pozwala na dokonanie stanowi granicę nie tylko szybkości algorytmu, ale również jego wykonania w ogóle. Algorytm wykorzystujący hashowanie zdecydowanie lepiej radzi sobie pod względem szybkości oraz wykorzystania pamieci."
   ]
  },
  {
   "cell_type": "code",
   "execution_count": null,
   "metadata": {},
   "outputs": [],
   "source": []
  }
 ],
 "metadata": {
  "kernelspec": {
   "display_name": "Python 3",
   "language": "python",
   "name": "python3"
  },
  "language_info": {
   "codemirror_mode": {
    "name": "ipython",
    "version": 3
   },
   "file_extension": ".py",
   "mimetype": "text/x-python",
   "name": "python",
   "nbconvert_exporter": "python",
   "pygments_lexer": "ipython3",
   "version": "3.8.5"
  }
 },
 "nbformat": 4,
 "nbformat_minor": 1
}
