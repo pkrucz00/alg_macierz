{
 "cells": [
  {
   "cell_type": "markdown",
   "metadata": {},
   "source": [
    "# Algorytmy macierzowe - mnożenie macierzy rzadkich\n",
    "## Wykonali: Robert Kazimirek, Paweł Kruczkiewicz\n",
    "\n",
    "\n",
    "**Numer ćwiczenia: 1**\n",
    "\n",
    "*Temat:* Proszę napisać kompresję macierzy do formatu koordynatów i przemnozyć ją przez wektor gęsty. Mnożenie ma być z możliwie najmniejszym kosztem. Porównać z klasycznym mnożeniem macierzy.\n",
    "\n",
    "Treść ćwiczenia:\n",
    "\n",
    "1. Informacje o rozmiarach swoich macierzy A i B (w jaki sposób zostały one wygenerowane skryptem mass matrix) \n",
    "2. Proszę narysować macierz A, B oraz C=A*B używając spy(A), spy(B) i spy(A*B) \n",
    "3. Proszę zmierzyć czas mnożenia macierzy A*B używając swojego programu z Zadania 1 \n",
    "4. Proszę przekonwertować macierz A (i ewentualnie B)  do stosownego formatu rzadkiego.  \n",
    "5. Proszę umieścić i opisać kod użyty do konwersji \n",
    "6. Bardzo proszę napisać mnożenie macierzy o możliwie najmniejszym koszcie \n",
    "7. Proszę umieścić i opisać kod użyty do mnożenia przekonwertowanych macierzy \n",
    "8. Proszę zmierzyć czas mnożenia przekonwertownych macierzy A*B"
   ]
  },
  {
   "cell_type": "code",
   "execution_count": 237,
   "metadata": {},
   "outputs": [],
   "source": [
    "import numpy as np\n",
    "import matplotlib.pyplot as plt"
   ]
  },
  {
   "cell_type": "markdown",
   "metadata": {},
   "source": [
    "### Ad. 1\n",
    "Jako macierz A wybraliśmy macierz wygenerowaną przez podany na zajęciach skrypt `massmatrix.m`. W tym celu użyliśmy funkcji `massmatrix(2,6,2,2)`, która ma rozmiar 100x100. Następnie wyniki zapisaliśmy w pliku o formacie csv. Poniższy kod wczytuje obie macierze jako `np.array` \n",
    "\n",
    "Następnie powiększyliśmy wejściową macierz poprzez powtórzenie. Otrzymaliśmy macierz 3200x3200. \n",
    "\n",
    "Macierz B stanowi macierz gęsta o długości 3200 z losowo wylosowanymi wartościami z przedziału (0,1)."
   ]
  },
  {
   "cell_type": "code",
   "execution_count": 238,
   "metadata": {},
   "outputs": [],
   "source": [
    "def get_matrix_from_csv(csv_file):\n",
    "    return np.loadtxt(open(csv_file, \"rb\"), delimiter=\",\", skiprows=0)"
   ]
  },
  {
   "cell_type": "code",
   "execution_count": 239,
   "metadata": {},
   "outputs": [],
   "source": [
    "def scale_matrix(A, q):\n",
    "    B = np.vstack([A]*q)\n",
    "    C = np.hstack([B]*q)\n",
    "    return C"
   ]
  },
  {
   "cell_type": "code",
   "execution_count": 240,
   "metadata": {},
   "outputs": [
    {
     "name": "stdout",
     "output_type": "stream",
     "text": [
      "(12800, 12800) (12800, 1)\n"
     ]
    }
   ],
   "source": [
    "A = scale_matrix(get_matrix_from_csv(\"rigas/riga100.csv\"), 128)\n",
    "B = np.random.rand(A.shape[0], 1)\n",
    "\n",
    "print(A.shape, B.shape)"
   ]
  },
  {
   "cell_type": "code",
   "execution_count": 241,
   "metadata": {},
   "outputs": [
    {
     "name": "stdout",
     "output_type": "stream",
     "text": [
      "Procent niezerowych pól macierzy A: 16.0 %\n"
     ]
    }
   ],
   "source": [
    "print(f\"Procent niezerowych pól macierzy A: {100*np.count_nonzero(A)/(A.shape[0])**2} %\")"
   ]
  },
  {
   "cell_type": "markdown",
   "metadata": {},
   "source": [
    "### Ad. 2\n",
    "Poniżej przedstawiamy niezerowe pola wejściowych oraz wyjściowe macierzy. Fiolet oznacza niezerową wartość, żółty oznacza zerową. Do mnożenia macierzy wykorzystano wbudowany w bibliotekę numpy znak mnożenia macierzy.\n",
    "\n",
    "(Być może zdanie do zmiany): Przedstawiono jedynie fragment macierzy B i C, ponieważ były zbyt długie, aby przedstawić je w formie jednego paska "
   ]
  },
  {
   "cell_type": "code",
   "execution_count": 252,
   "metadata": {},
   "outputs": [],
   "source": [
    "def spy(matrix, plot):\n",
    "    mask = matrix == 0\n",
    "    if matrix.shape[1] == 1:\n",
    "        plot.set_xticklabels(['', '0', '', '', '', '1'])\n",
    "        plot.matshow(mask, aspect=0.001)\n",
    "    else:\n",
    "        plot.matshow(mask, aspect='auto')"
   ]
  },
  {
   "cell_type": "code",
   "execution_count": 253,
   "metadata": {
    "scrolled": false
   },
   "outputs": [
    {
     "name": "stderr",
     "output_type": "stream",
     "text": [
      "<ipython-input-252-294927bd1baf>:4: UserWarning: FixedFormatter should only be used together with FixedLocator\n",
      "  plot.set_xticklabels(['', '0', '', '', '', '1'])\n"
     ]
    },
    {
     "data": {
      "image/png": "[encoded data removed]",
      "text/plain": [
       "<Figure size 1080x360 with 3 Axes>"
      ]
     },
     "metadata": {
      "needs_background": "light"
     },
     "output_type": "display_data"
    }
   ],
   "source": [
    "C = A@B\n",
    "    \n",
    "fig, (plot_1, plot_2, plot_3) = plt.subplots(1, 3, figsize=(15, 5))\n",
    "fig.suptitle('Kolejno: macierz A, macierz B, macierz C (iloczyn macierzy A i B)')\n",
    "\n",
    "spy(A, plot_1)\n",
    "spy(B, plot_2)\n",
    "spy(C, plot_3)"
   ]
  },
  {
   "cell_type": "markdown",
   "metadata": {},
   "source": [
    "## Ad. 3\n",
    "Poniżej przedstawiono klasyczny program do mnożenia macierzy, który został użyty w zadaniu 1 "
   ]
  },
  {
   "cell_type": "code",
   "execution_count": 244,
   "metadata": {},
   "outputs": [],
   "source": [
    "def multi_pji(A, B, C):\n",
    "    m, n, k = np.size(C, 0), np.size(C, 1), np.size(A, 1)\n",
    "    for p in range(k):\n",
    "        for j in range(n):\n",
    "            for i in range(m):\n",
    "                C[i][j] += A[i][p] * B[p][j]\n",
    "\n",
    "\n",
    "def mat_mul(A, B, A_size=np.size(A, 0), mul_func=multi_pji):\n",
    "    C = np.zeros((A_size, np.size(B, 1)))\n",
    "    mul_func(A, B, C)\n",
    "    return C"
   ]
  },
  {
   "cell_type": "markdown",
   "metadata": {},
   "source": [
    "Jego wydajność zbadamy za pomocą funkcji, która bada czas 5 wykonań funkcji"
   ]
  },
  {
   "cell_type": "code",
   "execution_count": 245,
   "metadata": {},
   "outputs": [],
   "source": [
    "from time import time\n",
    "\n",
    "def log_time(func, message):\n",
    "    number_of_tests = 5\n",
    "    exec_times = []\n",
    "    for _ in range(number_of_tests):\n",
    "        t1 = time()\n",
    "        func()\n",
    "        t2 = time()\n",
    "        exec_times.append(round(t2 - t1, 5))\n",
    "    \n",
    "    avg_time = round(sum(exec_times)/number_of_tests, 5)\n",
    "    print(f\"{message:8}: {avg_time} [s]\")\n",
    "    return avg_time"
   ]
  },
  {
   "cell_type": "code",
   "execution_count": 246,
   "metadata": {},
   "outputs": [
    {
     "name": "stdout",
     "output_type": "stream",
     "text": [
      "Czas klasycznego mnożenia: 216.46143 [s]\n"
     ]
    }
   ],
   "source": [
    "classic_multiplication_time = log_time(lambda: mat_mul(A,B), \"Czas klasycznego mnożenia\")"
   ]
  },
  {
   "cell_type": "markdown",
   "metadata": {},
   "source": [
    "## Ad. 4\n",
    "Funkcja do konwersji macierzy na format koordynatów"
   ]
  },
  {
   "cell_type": "code",
   "execution_count": 232,
   "metadata": {},
   "outputs": [
    {
     "name": "stdout",
     "output_type": "stream",
     "text": [
      "Wartości: [0.00444444 0.00259259 0.00037037 ... 0.00037037 0.00259259 0.00444444]\n",
      "Koordynaty x: [    0     0     0 ... 12799 12799 12799]\n",
      "Koordynaty y: [    0     1     2 ... 12797 12798 12799]\n"
     ]
    }
   ],
   "source": [
    "def matrix_to_coordinates(A):\n",
    "    x_coords, y_coords = A.nonzero()\n",
    "    vals = A[x_coords, y_coords]\n",
    "    return vals, x_coords, y_coords\n",
    "\n",
    "A_coord = matrix_to_coordinates(A)\n",
    "print(f\"Wartości: {A_coord[0]}\")\n",
    "print(f\"Koordynaty x: {A_coord[1]}\")\n",
    "print(f\"Koordynaty y: {A_coord[2]}\")"
   ]
  },
  {
   "cell_type": "markdown",
   "metadata": {},
   "source": [
    "## Ad. 5\n",
    "**Opis konwersji:**\n",
    "\n",
    "Powyższy algorytm korzysta z biblioteki `numpy`. Najpierw dostajemy dwie tablice `x_coord` i `y_coord`, które znajdują niezerowe koordynaty macierzy. Następnie, używszy intuicyjnej składni biblioteki `numpy`, dostajemy jednowymiarową tablicę wartości macierzy w miejscach wskazanych przez koordynaty,\n",
    "Na koniec zwracamy otrzymane tablice."
   ]
  },
  {
   "cell_type": "markdown",
   "metadata": {},
   "source": [
    "## Ad. 6\n",
    "Funkcja do pomnożenia macierzy w formacie Coordinate format oraz macierzy gęstej"
   ]
  },
  {
   "cell_type": "code",
   "execution_count": 227,
   "metadata": {},
   "outputs": [],
   "source": [
    "def multi_coord(A, B, C):\n",
    "    for i in range(len(A[0])):\n",
    "        C[A[1][i]] += A[0][i] * B[A[2][i]]"
   ]
  },
  {
   "cell_type": "markdown",
   "metadata": {},
   "source": [
    "## Ad. 7\n",
    "**Opis mnożenia**\n",
    "\n",
    "Proces mnożenia polega na przeiterowaniu po każdej wartości zawartej w macierzy rzadkiej A. Przejście to odpowiada pętlom \"i\" oraz \"p\".\n",
    "\n",
    "Następnie każda odwiedzona wartość jest mnożona z odpowiednimi wartościami z macierzy gęstej B i dodawana na odpowiedniej pozycji macierzy C. Odpowiada to pętli j."
   ]
  },
  {
   "cell_type": "markdown",
   "metadata": {},
   "source": [
    "## Ad. 8"
   ]
  },
  {
   "cell_type": "code",
   "execution_count": 233,
   "metadata": {
    "scrolled": false
   },
   "outputs": [
    {
     "name": "stdout",
     "output_type": "stream",
     "text": [
      "Czas mnożenia przy użyciu macierzy w Coordinate Format: 97.01895 [s]\n"
     ]
    }
   ],
   "source": [
    "coordinate_multiplication_time = log_time(lambda: mat_mul(A_coord,B,np.size(A[0], 0),multi_coord), \"Czas mnożenia przy użyciu macierzy w Coordinate Format\")"
   ]
  },
  {
   "cell_type": "markdown",
   "metadata": {},
   "source": [
    "## Wnioski:\n",
    "\n",
    "W laboratorium dokonaliśmy konwersji macierzy do formatu Coordinate Form, czas wykonania tej operacji jest mały, w stosunku, do czasów wykonania innych operacji, przeprowadzanych na macierzach.\n",
    "\n",
    "Następnie napisaliśmy procedurę mnożenia macierzy w uzyskanym formacie z macierzą gęstą i porównaliśmy czas mnożenia przy użyciu utworzonej funkcji oraz klasycznego algorytmu. Nowa metoda mnożenia okazała się być przeszło dwukrotnie szybsza."
   ]
  },
  {
   "cell_type": "code",
   "execution_count": 251,
   "metadata": {},
   "outputs": [
    {
     "data": {
      "text/plain": [
       "<BarContainer object of 2 artists>"
      ]
     },
     "execution_count": 251,
     "metadata": {},
     "output_type": "execute_result"
    },
    {
     "data": {
      "image/png": "[encoded data removed]",
      "text/plain": [
       "<Figure size 432x288 with 1 Axes>"
      ]
     },
     "metadata": {
      "needs_background": "light"
     },
     "output_type": "display_data"
    }
   ],
   "source": [
    "plt.bar(['mnożenie klasyczne', 'mnożenie coordinate form'],[classic_multiplication_time, coordinate_multiplication_time])"
   ]
  }
 ],
 "metadata": {
  "kernelspec": {
   "display_name": "Python 3",
   "language": "python",
   "name": "python3"
  },
  "language_info": {
   "codemirror_mode": {
    "name": "ipython",
    "version": 3
   },
   "file_extension": ".py",
   "mimetype": "text/x-python",
   "name": "python",
   "nbconvert_exporter": "python",
   "pygments_lexer": "ipython3",
   "version": "3.8.5"
  }
 },
 "nbformat": 4,
 "nbformat_minor": 5
}
