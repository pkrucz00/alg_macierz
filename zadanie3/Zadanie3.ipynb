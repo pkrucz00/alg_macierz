{
 "cells": [
  {
   "cell_type": "markdown",
   "id": "2973f222",
   "metadata": {},
   "source": [
    "# Algorytmy macierzowe - mnożenie macierzy rzadkich\n",
    "## Wykonali: Robert Kazimirek, Paweł Kruczkiewicz\n",
    "\n",
    "\n",
    "**Numer ćwiczenia: 1**\n",
    "\n",
    "*Temat:* Proszę napisać kompresję macierzy do formatu koordynatów i przemnozyć ją przez wektor gęsty. Mnożenie ma być z możliwie najmniejszym kosztem. Porównać z klasycznym mnożeniem macierzy.\n",
    "\n",
    "Treść ćwiczenia:\n",
    "\n",
    "(??? przekleić ze slajdów)"
   ]
  },
  {
   "cell_type": "code",
   "execution_count": 6,
   "id": "db1ed119",
   "metadata": {},
   "outputs": [],
   "source": [
    "import numpy as np\n",
    "import matplotlib.pyplot as plt"
   ]
  },
  {
   "cell_type": "markdown",
   "id": "22290b7d",
   "metadata": {},
   "source": [
    "### Ad. 1\n",
    "Jako macierze A wybraliśmy macierz wygenerowaną przez podany na zajęciach skrypt `massmatrix.m`. W tym celu użyliśmy funkcji `massmatrix(2,6,2,2)`, która ma rozmiar 100x100. Następnie wyniki zapisaliśmy w pliku o formacie csv. Poniższy kod wczytuje obie macierze jako `np.array` \n",
    "\n",
    "Następnie powiększyliśmy wejściową macierz poprzez powtórzenie. Otrzymaliśmy macierz 400x400.  "
   ]
  },
  {
   "cell_type": "code",
   "execution_count": 7,
   "id": "3f95cf98",
   "metadata": {},
   "outputs": [],
   "source": [
    "def get_matrix_from_csv(csv_file):\n",
    "    return np.loadtxt(open(csv_file, \"rb\"), delimiter=\",\", skiprows=0)"
   ]
  },
  {
   "cell_type": "code",
   "execution_count": 8,
   "id": "377fd55c",
   "metadata": {},
   "outputs": [],
   "source": [
    "def scale_matrix(A, q):\n",
    "    B = np.vstack([A]*q)\n",
    "    C = np.hstack([B]*q)\n",
    "    return C"
   ]
  },
  {
   "cell_type": "code",
   "execution_count": 10,
   "id": "31a75be9",
   "metadata": {},
   "outputs": [],
   "source": [
    "A = scale_matrix(get_matrix_from_csv(\"rigas/riga100.csv\"), 4)\n",
    "# B = vector_z_losowymi_danymi_dlugosci_n"
   ]
  },
  {
   "cell_type": "code",
   "execution_count": null,
   "id": "036c98e9",
   "metadata": {},
   "outputs": [],
   "source": []
  }
 ],
 "metadata": {
  "kernelspec": {
   "display_name": "Python 3",
   "language": "python",
   "name": "python3"
  },
  "language_info": {
   "codemirror_mode": {
    "name": "ipython",
    "version": 3
   },
   "file_extension": ".py",
   "mimetype": "text/x-python",
   "name": "python",
   "nbconvert_exporter": "python",
   "pygments_lexer": "ipython3",
   "version": "3.7.6"
  }
 },
 "nbformat": 4,
 "nbformat_minor": 5
}
